{
 "cells": [
  {
   "cell_type": "markdown",
   "metadata": {},
   "source": [
    "# Capstone Project 1"
   ]
  },
  {
   "cell_type": "markdown",
   "metadata": {},
   "source": [
    "## Background"
   ]
  },
  {
   "cell_type": "markdown",
   "metadata": {},
   "source": [
    "One of the most debatable questions in the field of Finance is whether it is an Art or Science. We have heard of many individuals who become millionaire from the stock market. Some argue that they are “able to tell” which stocks would increase in value (Art) while others insist that the stock market is purely numbers based calculation (Science). \n",
    "\n",
    "Since I myself are not one of those people that can predict the movement of the stock prices, I would use Science to predict the movement using different statistical approaches. This project will aim to create an algorithm that will predict the stock price.\n",
    "\n",
    "There are different ways to predict the stock prices such as:\n",
    "- Moving Average\n",
    "- Linear Regression\n",
    "- Auto ARIMA\n",
    "- Prophet\n",
    "- Long Short Term Memory (LSTM)\n",
    "\t\n",
    "From the statistical method above, I would like to test which one is able to predict the best movement by comparing it day-per-day once the algorithm is done for 3 months while feeding the news to the algorithm as well."
   ]
  },
  {
   "cell_type": "markdown",
   "metadata": {},
   "source": [
    "## Data Source"
   ]
  },
  {
   "cell_type": "markdown",
   "metadata": {},
   "source": [
    "Mainly the data source that I will be using is from Alpha Vantage and the companies that I will test my hypothesis will come from 3 different industries:\n",
    "1. Broadcasting & Entertainment - Disney (DIS)\n",
    "2. Information Technology - Apple (AAPL)\n",
    "3. Managed Health Care - United Health Group (UNH)"
   ]
  },
  {
   "cell_type": "markdown",
   "metadata": {},
   "source": [
    "## Process"
   ]
  },
  {
   "cell_type": "code",
   "execution_count": 29,
   "metadata": {},
   "outputs": [],
   "source": [
    "# Importing the necessary libraries\n",
    "\n",
    "import pandas as pd\n",
    "import matplotlib.pyplot as plt\n",
    "import pandas_datareader as pdr\n",
    "from alpha_vantage.timeseries import TimeSeries"
   ]
  },
  {
   "cell_type": "code",
   "execution_count": 30,
   "metadata": {},
   "outputs": [],
   "source": [
    "# Declaring the API Key\n",
    "\n",
    "av_api_key = 'VBBSHCG7I18DDPJV'\n",
    "twitter_api_key = 'jzu3E5CJbVcjziMmJhpMfwBjx'"
   ]
  },
  {
   "cell_type": "code",
   "execution_count": 31,
   "metadata": {},
   "outputs": [],
   "source": [
    "# Use the TimeSeries to declare the API key and output format to pandas\n",
    "\n",
    "ts = TimeSeries(key=av_api_key,output_format='pandas')"
   ]
  },
  {
   "cell_type": "code",
   "execution_count": 32,
   "metadata": {},
   "outputs": [
    {
     "data": {
      "text/html": [
       "<div>\n",
       "<style scoped>\n",
       "    .dataframe tbody tr th:only-of-type {\n",
       "        vertical-align: middle;\n",
       "    }\n",
       "\n",
       "    .dataframe tbody tr th {\n",
       "        vertical-align: top;\n",
       "    }\n",
       "\n",
       "    .dataframe thead th {\n",
       "        text-align: right;\n",
       "    }\n",
       "</style>\n",
       "<table border=\"1\" class=\"dataframe\">\n",
       "  <thead>\n",
       "    <tr style=\"text-align: right;\">\n",
       "      <th></th>\n",
       "      <th>1. open</th>\n",
       "      <th>2. high</th>\n",
       "      <th>3. low</th>\n",
       "      <th>4. close</th>\n",
       "      <th>5. volume</th>\n",
       "    </tr>\n",
       "  </thead>\n",
       "  <tbody>\n",
       "    <tr>\n",
       "      <th>count</th>\n",
       "      <td>5001.000000</td>\n",
       "      <td>5001.000000</td>\n",
       "      <td>5001.000000</td>\n",
       "      <td>5001.000000</td>\n",
       "      <td>5.001000e+03</td>\n",
       "    </tr>\n",
       "    <tr>\n",
       "      <th>mean</th>\n",
       "      <td>13953.650210</td>\n",
       "      <td>14034.047748</td>\n",
       "      <td>13869.990162</td>\n",
       "      <td>13956.294773</td>\n",
       "      <td>2.189522e+08</td>\n",
       "    </tr>\n",
       "    <tr>\n",
       "      <th>std</th>\n",
       "      <td>5096.974493</td>\n",
       "      <td>5106.451513</td>\n",
       "      <td>5086.377860</td>\n",
       "      <td>5097.832960</td>\n",
       "      <td>1.031571e+08</td>\n",
       "    </tr>\n",
       "    <tr>\n",
       "      <th>min</th>\n",
       "      <td>6547.009800</td>\n",
       "      <td>6709.609900</td>\n",
       "      <td>6469.950200</td>\n",
       "      <td>6547.049800</td>\n",
       "      <td>8.410000e+06</td>\n",
       "    </tr>\n",
       "    <tr>\n",
       "      <th>25%</th>\n",
       "      <td>10411.150400</td>\n",
       "      <td>10476.730500</td>\n",
       "      <td>10350.889600</td>\n",
       "      <td>10412.820300</td>\n",
       "      <td>1.437200e+08</td>\n",
       "    </tr>\n",
       "    <tr>\n",
       "      <th>50%</th>\n",
       "      <td>12084.740200</td>\n",
       "      <td>12149.190400</td>\n",
       "      <td>11999.440400</td>\n",
       "      <td>12083.769500</td>\n",
       "      <td>2.146600e+08</td>\n",
       "    </tr>\n",
       "    <tr>\n",
       "      <th>75%</th>\n",
       "      <td>16943.160200</td>\n",
       "      <td>16994.890600</td>\n",
       "      <td>16858.880900</td>\n",
       "      <td>16943.810500</td>\n",
       "      <td>2.727600e+08</td>\n",
       "    </tr>\n",
       "    <tr>\n",
       "      <th>max</th>\n",
       "      <td>27843.539100</td>\n",
       "      <td>28004.890600</td>\n",
       "      <td>27843.539100</td>\n",
       "      <td>28004.890600</td>\n",
       "      <td>2.190810e+09</td>\n",
       "    </tr>\n",
       "  </tbody>\n",
       "</table>\n",
       "</div>"
      ],
      "text/plain": [
       "            1. open       2. high        3. low      4. close     5. volume\n",
       "count   5001.000000   5001.000000   5001.000000   5001.000000  5.001000e+03\n",
       "mean   13953.650210  14034.047748  13869.990162  13956.294773  2.189522e+08\n",
       "std     5096.974493   5106.451513   5086.377860   5097.832960  1.031571e+08\n",
       "min     6547.009800   6709.609900   6469.950200   6547.049800  8.410000e+06\n",
       "25%    10411.150400  10476.730500  10350.889600  10412.820300  1.437200e+08\n",
       "50%    12084.740200  12149.190400  11999.440400  12083.769500  2.146600e+08\n",
       "75%    16943.160200  16994.890600  16858.880900  16943.810500  2.727600e+08\n",
       "max    27843.539100  28004.890600  27843.539100  28004.890600  2.190810e+09"
      ]
     },
     "execution_count": 32,
     "metadata": {},
     "output_type": "execute_result"
    }
   ],
   "source": [
    "# Pull the Dow Jones Industrial standard to check the data\n",
    "\n",
    "dji_data, metadata = ts.get_daily(symbol=\"DJI\", outputsize='full')\n",
    "dji_data.describe()"
   ]
  },
  {
   "cell_type": "code",
   "execution_count": 33,
   "metadata": {},
   "outputs": [
    {
     "data": {
      "text/plain": [
       "1. open      float64\n",
       "2. high      float64\n",
       "3. low       float64\n",
       "4. close     float64\n",
       "5. volume    float64\n",
       "dtype: object"
      ]
     },
     "execution_count": 33,
     "metadata": {},
     "output_type": "execute_result"
    }
   ],
   "source": [
    "# Check the data types\n",
    "\n",
    "dji_data.dtypes"
   ]
  },
  {
   "cell_type": "code",
   "execution_count": 34,
   "metadata": {},
   "outputs": [
    {
     "data": {
      "text/plain": [
       "1. open      0\n",
       "2. high      0\n",
       "3. low       0\n",
       "4. close     0\n",
       "5. volume    0\n",
       "dtype: int64"
      ]
     },
     "execution_count": 34,
     "metadata": {},
     "output_type": "execute_result"
    }
   ],
   "source": [
    "# Check if any missing values in any of the columns\n",
    "\n",
    "dji_data.isna().sum()"
   ]
  },
  {
   "cell_type": "code",
   "execution_count": 35,
   "metadata": {},
   "outputs": [],
   "source": [
    "#dji_data.nunique()"
   ]
  },
  {
   "cell_type": "code",
   "execution_count": 38,
   "metadata": {},
   "outputs": [],
   "source": [
    "# Declare the columns name to be used\n",
    "\n",
    "columns_name = ['Open', 'High', 'Low', 'Close', 'Volume']"
   ]
  },
  {
   "cell_type": "code",
   "execution_count": 39,
   "metadata": {},
   "outputs": [],
   "source": [
    "# Create a function to pull the data\n",
    "\n",
    "def get_data(company_symbol):\n",
    "    data, metadata = ts.get_daily(symbol = company_symbol, outputsize='full')\n",
    "    data.columns = columns_name\n",
    "    return data"
   ]
  },
  {
   "cell_type": "markdown",
   "metadata": {},
   "source": [
    "### Disney"
   ]
  },
  {
   "cell_type": "code",
   "execution_count": 41,
   "metadata": {},
   "outputs": [],
   "source": [
    "# Use the function to get the Disney data\n",
    "\n",
    "dis_data = get_data(\"DIS\")"
   ]
  },
  {
   "cell_type": "code",
   "execution_count": 43,
   "metadata": {},
   "outputs": [
    {
     "data": {
      "text/plain": [
       "[<matplotlib.lines.Line2D at 0x480b330>]"
      ]
     },
     "execution_count": 43,
     "metadata": {},
     "output_type": "execute_result"
    },
    {
     "data": {
      "image/png": "[encoded data removed]",
      "text/plain": [
       "<Figure size 432x288 with 1 Axes>"
      ]
     },
     "metadata": {
      "needs_background": "light"
     },
     "output_type": "display_data"
    }
   ],
   "source": [
    "# Plot the 'Close' column to check if there is any irregularities in the data\n",
    "\n",
    "plt.plot(dis_data.Close)"
   ]
  },
  {
   "cell_type": "code",
   "execution_count": 12,
   "metadata": {},
   "outputs": [],
   "source": [
    "# Find the starting date, ending date and number of days of data\n",
    "\n",
    "min_date = min(dis_data.index).date()\n",
    "max_date = max(dis_data.index).date()\n",
    "count_date = len(dis_data.index)"
   ]
  },
  {
   "cell_type": "code",
   "execution_count": 46,
   "metadata": {},
   "outputs": [
    {
     "name": "stdout",
     "output_type": "stream",
     "text": [
      "The earliest date for the data is : 1999-11-16\n",
      "The latest date for the data is : 2019-11-15\n",
      "Number of days of transactions : 5033 days\n"
     ]
    }
   ],
   "source": [
    "# Print the results\n",
    "\n",
    "print(\"The earliest date for the data is : \" + str(min_date))\n",
    "print(\"The latest date for the data is : \" + str(max_date))\n",
    "print(\"Number of days of transactions : \" + str(count_date) + \" days\")"
   ]
  },
  {
   "cell_type": "code",
   "execution_count": 48,
   "metadata": {},
   "outputs": [
    {
     "data": {
      "text/html": [
       "<div>\n",
       "<style scoped>\n",
       "    .dataframe tbody tr th:only-of-type {\n",
       "        vertical-align: middle;\n",
       "    }\n",
       "\n",
       "    .dataframe tbody tr th {\n",
       "        vertical-align: top;\n",
       "    }\n",
       "\n",
       "    .dataframe thead th {\n",
       "        text-align: right;\n",
       "    }\n",
       "</style>\n",
       "<table border=\"1\" class=\"dataframe\">\n",
       "  <thead>\n",
       "    <tr style=\"text-align: right;\">\n",
       "      <th></th>\n",
       "      <th>Open</th>\n",
       "      <th>High</th>\n",
       "      <th>Low</th>\n",
       "      <th>Close</th>\n",
       "      <th>Volume</th>\n",
       "    </tr>\n",
       "  </thead>\n",
       "  <tbody>\n",
       "    <tr>\n",
       "      <th>count</th>\n",
       "      <td>5033.000000</td>\n",
       "      <td>5033.000000</td>\n",
       "      <td>5033.000000</td>\n",
       "      <td>5033.000000</td>\n",
       "      <td>5.033000e+03</td>\n",
       "    </tr>\n",
       "    <tr>\n",
       "      <th>mean</th>\n",
       "      <td>53.729379</td>\n",
       "      <td>54.211414</td>\n",
       "      <td>53.224770</td>\n",
       "      <td>53.738437</td>\n",
       "      <td>9.200571e+06</td>\n",
       "    </tr>\n",
       "    <tr>\n",
       "      <th>std</th>\n",
       "      <td>35.432363</td>\n",
       "      <td>35.607653</td>\n",
       "      <td>35.209727</td>\n",
       "      <td>35.409512</td>\n",
       "      <td>5.489669e+06</td>\n",
       "    </tr>\n",
       "    <tr>\n",
       "      <th>min</th>\n",
       "      <td>13.800000</td>\n",
       "      <td>14.100000</td>\n",
       "      <td>13.480000</td>\n",
       "      <td>13.770000</td>\n",
       "      <td>1.487400e+06</td>\n",
       "    </tr>\n",
       "    <tr>\n",
       "      <th>25%</th>\n",
       "      <td>27.000000</td>\n",
       "      <td>27.371900</td>\n",
       "      <td>26.730000</td>\n",
       "      <td>27.020000</td>\n",
       "      <td>6.069500e+06</td>\n",
       "    </tr>\n",
       "    <tr>\n",
       "      <th>50%</th>\n",
       "      <td>34.910000</td>\n",
       "      <td>35.200000</td>\n",
       "      <td>34.540000</td>\n",
       "      <td>34.938000</td>\n",
       "      <td>7.910400e+06</td>\n",
       "    </tr>\n",
       "    <tr>\n",
       "      <th>75%</th>\n",
       "      <td>90.686100</td>\n",
       "      <td>91.150000</td>\n",
       "      <td>90.056600</td>\n",
       "      <td>90.580000</td>\n",
       "      <td>1.074810e+07</td>\n",
       "    </tr>\n",
       "    <tr>\n",
       "      <th>max</th>\n",
       "      <td>148.000000</td>\n",
       "      <td>150.630000</td>\n",
       "      <td>146.280000</td>\n",
       "      <td>148.720000</td>\n",
       "      <td>1.165887e+08</td>\n",
       "    </tr>\n",
       "  </tbody>\n",
       "</table>\n",
       "</div>"
      ],
      "text/plain": [
       "              Open         High          Low        Close        Volume\n",
       "count  5033.000000  5033.000000  5033.000000  5033.000000  5.033000e+03\n",
       "mean     53.729379    54.211414    53.224770    53.738437  9.200571e+06\n",
       "std      35.432363    35.607653    35.209727    35.409512  5.489669e+06\n",
       "min      13.800000    14.100000    13.480000    13.770000  1.487400e+06\n",
       "25%      27.000000    27.371900    26.730000    27.020000  6.069500e+06\n",
       "50%      34.910000    35.200000    34.540000    34.938000  7.910400e+06\n",
       "75%      90.686100    91.150000    90.056600    90.580000  1.074810e+07\n",
       "max     148.000000   150.630000   146.280000   148.720000  1.165887e+08"
      ]
     },
     "execution_count": 48,
     "metadata": {},
     "output_type": "execute_result"
    }
   ],
   "source": [
    "# Check the top stats measure\n",
    "\n",
    "dis_data.describe()"
   ]
  },
  {
   "cell_type": "code",
   "execution_count": 15,
   "metadata": {},
   "outputs": [
    {
     "data": {
      "text/plain": [
       "Open      0\n",
       "High      0\n",
       "Low       0\n",
       "Close     0\n",
       "Volume    0\n",
       "dtype: int64"
      ]
     },
     "execution_count": 15,
     "metadata": {},
     "output_type": "execute_result"
    }
   ],
   "source": [
    "# Check for any missing data\n",
    "\n",
    "dis_data.isna().sum()"
   ]
  },
  {
   "cell_type": "markdown",
   "metadata": {},
   "source": [
    "### Apple"
   ]
  },
  {
   "cell_type": "code",
   "execution_count": 44,
   "metadata": {},
   "outputs": [],
   "source": [
    "# Use the function to get the Apple data\n",
    "\n",
    "aapl_data = get_data(\"AAPL\")"
   ]
  },
  {
   "cell_type": "code",
   "execution_count": 45,
   "metadata": {
    "scrolled": true
   },
   "outputs": [
    {
     "data": {
      "text/plain": [
       "[<matplotlib.lines.Line2D at 0x4908fd0>]"
      ]
     },
     "execution_count": 45,
     "metadata": {},
     "output_type": "execute_result"
    },
    {
     "data": {
      "image/png": "[encoded data removed]",
      "text/plain": [
       "<Figure size 432x288 with 1 Axes>"
      ]
     },
     "metadata": {
      "needs_background": "light"
     },
     "output_type": "display_data"
    }
   ],
   "source": [
    "# Plot the 'Close' column to check if there is any irregularities in the data\n",
    "\n",
    "plt.plot(aapl_data.Close)"
   ]
  },
  {
   "cell_type": "code",
   "execution_count": 19,
   "metadata": {},
   "outputs": [],
   "source": [
    "# Find the starting date, ending date and number of days of data\n",
    "\n",
    "min_date = min(aapl_data.index).date()\n",
    "max_date = max(aapl_data.index).date()\n",
    "count_date = len(aapl_data.index)"
   ]
  },
  {
   "cell_type": "code",
   "execution_count": 47,
   "metadata": {
    "scrolled": false
   },
   "outputs": [
    {
     "name": "stdout",
     "output_type": "stream",
     "text": [
      "The earliest date for the data is : 1999-11-16\n",
      "The latest date for the data is : 2019-11-15\n",
      "Number of days of transactions : 5033 days\n"
     ]
    }
   ],
   "source": [
    "# Print the results\n",
    "\n",
    "print(\"The earliest date for the data is : \" + str(min_date))\n",
    "print(\"The latest date for the data is : \" + str(max_date))\n",
    "print(\"Number of days of transactions : \" + str(count_date) + \" days\")"
   ]
  },
  {
   "cell_type": "code",
   "execution_count": 49,
   "metadata": {},
   "outputs": [
    {
     "data": {
      "text/html": [
       "<div>\n",
       "<style scoped>\n",
       "    .dataframe tbody tr th:only-of-type {\n",
       "        vertical-align: middle;\n",
       "    }\n",
       "\n",
       "    .dataframe tbody tr th {\n",
       "        vertical-align: top;\n",
       "    }\n",
       "\n",
       "    .dataframe thead th {\n",
       "        text-align: right;\n",
       "    }\n",
       "</style>\n",
       "<table border=\"1\" class=\"dataframe\">\n",
       "  <thead>\n",
       "    <tr style=\"text-align: right;\">\n",
       "      <th></th>\n",
       "      <th>Open</th>\n",
       "      <th>High</th>\n",
       "      <th>Low</th>\n",
       "      <th>Close</th>\n",
       "      <th>Volume</th>\n",
       "    </tr>\n",
       "  </thead>\n",
       "  <tbody>\n",
       "    <tr>\n",
       "      <th>count</th>\n",
       "      <td>5033.000000</td>\n",
       "      <td>5033.000000</td>\n",
       "      <td>5033.000000</td>\n",
       "      <td>5033.000000</td>\n",
       "      <td>5.033000e+03</td>\n",
       "    </tr>\n",
       "    <tr>\n",
       "      <th>mean</th>\n",
       "      <td>171.268801</td>\n",
       "      <td>173.122202</td>\n",
       "      <td>169.235646</td>\n",
       "      <td>171.219586</td>\n",
       "      <td>1.153913e+08</td>\n",
       "    </tr>\n",
       "    <tr>\n",
       "      <th>std</th>\n",
       "      <td>160.552923</td>\n",
       "      <td>161.832478</td>\n",
       "      <td>159.016196</td>\n",
       "      <td>160.445524</td>\n",
       "      <td>9.858834e+07</td>\n",
       "    </tr>\n",
       "    <tr>\n",
       "      <th>min</th>\n",
       "      <td>12.990000</td>\n",
       "      <td>13.190000</td>\n",
       "      <td>12.720000</td>\n",
       "      <td>13.120000</td>\n",
       "      <td>9.835000e+06</td>\n",
       "    </tr>\n",
       "    <tr>\n",
       "      <th>25%</th>\n",
       "      <td>55.480000</td>\n",
       "      <td>56.938000</td>\n",
       "      <td>54.530000</td>\n",
       "      <td>55.650000</td>\n",
       "      <td>4.816840e+07</td>\n",
       "    </tr>\n",
       "    <tr>\n",
       "      <th>50%</th>\n",
       "      <td>118.890000</td>\n",
       "      <td>120.230000</td>\n",
       "      <td>117.610000</td>\n",
       "      <td>119.150000</td>\n",
       "      <td>8.817620e+07</td>\n",
       "    </tr>\n",
       "    <tr>\n",
       "      <th>75%</th>\n",
       "      <td>204.290000</td>\n",
       "      <td>206.000000</td>\n",
       "      <td>202.360000</td>\n",
       "      <td>204.440000</td>\n",
       "      <td>1.521926e+08</td>\n",
       "    </tr>\n",
       "    <tr>\n",
       "      <th>max</th>\n",
       "      <td>702.410000</td>\n",
       "      <td>705.070000</td>\n",
       "      <td>699.570000</td>\n",
       "      <td>702.100000</td>\n",
       "      <td>1.855410e+09</td>\n",
       "    </tr>\n",
       "  </tbody>\n",
       "</table>\n",
       "</div>"
      ],
      "text/plain": [
       "              Open         High          Low        Close        Volume\n",
       "count  5033.000000  5033.000000  5033.000000  5033.000000  5.033000e+03\n",
       "mean    171.268801   173.122202   169.235646   171.219586  1.153913e+08\n",
       "std     160.552923   161.832478   159.016196   160.445524  9.858834e+07\n",
       "min      12.990000    13.190000    12.720000    13.120000  9.835000e+06\n",
       "25%      55.480000    56.938000    54.530000    55.650000  4.816840e+07\n",
       "50%     118.890000   120.230000   117.610000   119.150000  8.817620e+07\n",
       "75%     204.290000   206.000000   202.360000   204.440000  1.521926e+08\n",
       "max     702.410000   705.070000   699.570000   702.100000  1.855410e+09"
      ]
     },
     "execution_count": 49,
     "metadata": {},
     "output_type": "execute_result"
    }
   ],
   "source": [
    "# Check the top stats measure\n",
    "\n",
    "aapl_data.describe()"
   ]
  },
  {
   "cell_type": "code",
   "execution_count": 22,
   "metadata": {},
   "outputs": [
    {
     "data": {
      "text/plain": [
       "Open      0\n",
       "High      0\n",
       "Low       0\n",
       "Close     0\n",
       "Volume    0\n",
       "dtype: int64"
      ]
     },
     "execution_count": 22,
     "metadata": {},
     "output_type": "execute_result"
    }
   ],
   "source": [
    "# Check for any missing data\n",
    "\n",
    "aapl_data.isna().sum()"
   ]
  },
  {
   "cell_type": "markdown",
   "metadata": {},
   "source": [
    "### United Health Care"
   ]
  },
  {
   "cell_type": "code",
   "execution_count": 53,
   "metadata": {},
   "outputs": [],
   "source": [
    "# Use the function to get the United Health Care data\n",
    "\n",
    "unh_data = get_data(\"UNH\")\n",
    "unh_data.columns = columns_name"
   ]
  },
  {
   "cell_type": "code",
   "execution_count": 24,
   "metadata": {},
   "outputs": [
    {
     "data": {
      "text/plain": [
       "[<matplotlib.lines.Line2D at 0xd49ded0>]"
      ]
     },
     "execution_count": 24,
     "metadata": {},
     "output_type": "execute_result"
    },
    {
     "data": {
      "image/png": "[encoded data removed]",
      "text/plain": [
       "<Figure size 432x288 with 1 Axes>"
      ]
     },
     "metadata": {
      "needs_background": "light"
     },
     "output_type": "display_data"
    }
   ],
   "source": [
    "# Plot the 'Close' column to check if there is any irregularities in the data\n",
    "\n",
    "plt.plot(unh_data.Close)"
   ]
  },
  {
   "cell_type": "code",
   "execution_count": 52,
   "metadata": {},
   "outputs": [],
   "source": [
    "# Find the starting date, ending date and number of days of data\n",
    "\n",
    "min_date = min(unh_data.index).date()\n",
    "max_date = max(unh_data.index).date()\n",
    "count_date = len(aapl_data.index)"
   ]
  },
  {
   "cell_type": "code",
   "execution_count": 51,
   "metadata": {},
   "outputs": [
    {
     "name": "stdout",
     "output_type": "stream",
     "text": [
      "The earliest date for the data is : 1999-11-16\n",
      "The latest date for the data is : 2019-11-15\n",
      "Number of days of transactions : 5033 days\n"
     ]
    }
   ],
   "source": [
    "# Print the results\n",
    "\n",
    "print(\"The earliest date for the data is : \" + str(min_date))\n",
    "print(\"The latest date for the data is : \" + str(max_date))\n",
    "print(\"Number of days of transactions : \" + str(count_date) + \" days\")"
   ]
  },
  {
   "cell_type": "code",
   "execution_count": 27,
   "metadata": {},
   "outputs": [
    {
     "data": {
      "text/html": [
       "<div>\n",
       "<style scoped>\n",
       "    .dataframe tbody tr th:only-of-type {\n",
       "        vertical-align: middle;\n",
       "    }\n",
       "\n",
       "    .dataframe tbody tr th {\n",
       "        vertical-align: top;\n",
       "    }\n",
       "\n",
       "    .dataframe thead th {\n",
       "        text-align: right;\n",
       "    }\n",
       "</style>\n",
       "<table border=\"1\" class=\"dataframe\">\n",
       "  <thead>\n",
       "    <tr style=\"text-align: right;\">\n",
       "      <th></th>\n",
       "      <th>Open</th>\n",
       "      <th>High</th>\n",
       "      <th>Low</th>\n",
       "      <th>Close</th>\n",
       "      <th>Volume</th>\n",
       "    </tr>\n",
       "  </thead>\n",
       "  <tbody>\n",
       "    <tr>\n",
       "      <th>count</th>\n",
       "      <td>5033.000000</td>\n",
       "      <td>5033.000000</td>\n",
       "      <td>5033.000000</td>\n",
       "      <td>5033.000000</td>\n",
       "      <td>5.033000e+03</td>\n",
       "    </tr>\n",
       "    <tr>\n",
       "      <th>mean</th>\n",
       "      <td>89.383324</td>\n",
       "      <td>90.324080</td>\n",
       "      <td>88.428573</td>\n",
       "      <td>89.405332</td>\n",
       "      <td>6.917366e+06</td>\n",
       "    </tr>\n",
       "    <tr>\n",
       "      <th>std</th>\n",
       "      <td>63.475557</td>\n",
       "      <td>63.949237</td>\n",
       "      <td>62.909674</td>\n",
       "      <td>63.452234</td>\n",
       "      <td>4.541621e+06</td>\n",
       "    </tr>\n",
       "    <tr>\n",
       "      <th>min</th>\n",
       "      <td>16.570000</td>\n",
       "      <td>17.200000</td>\n",
       "      <td>14.511000</td>\n",
       "      <td>16.300000</td>\n",
       "      <td>7.440000e+05</td>\n",
       "    </tr>\n",
       "    <tr>\n",
       "      <th>25%</th>\n",
       "      <td>50.625000</td>\n",
       "      <td>51.250000</td>\n",
       "      <td>49.940000</td>\n",
       "      <td>50.630000</td>\n",
       "      <td>3.914800e+06</td>\n",
       "    </tr>\n",
       "    <tr>\n",
       "      <th>50%</th>\n",
       "      <td>63.700000</td>\n",
       "      <td>64.490000</td>\n",
       "      <td>63.030000</td>\n",
       "      <td>63.750000</td>\n",
       "      <td>5.775200e+06</td>\n",
       "    </tr>\n",
       "    <tr>\n",
       "      <th>75%</th>\n",
       "      <td>105.750000</td>\n",
       "      <td>107.625000</td>\n",
       "      <td>104.625000</td>\n",
       "      <td>106.125000</td>\n",
       "      <td>8.524000e+06</td>\n",
       "    </tr>\n",
       "    <tr>\n",
       "      <th>max</th>\n",
       "      <td>286.150000</td>\n",
       "      <td>287.940000</td>\n",
       "      <td>282.714000</td>\n",
       "      <td>286.330000</td>\n",
       "      <td>5.680120e+07</td>\n",
       "    </tr>\n",
       "  </tbody>\n",
       "</table>\n",
       "</div>"
      ],
      "text/plain": [
       "              Open         High          Low        Close        Volume\n",
       "count  5033.000000  5033.000000  5033.000000  5033.000000  5.033000e+03\n",
       "mean     89.383324    90.324080    88.428573    89.405332  6.917366e+06\n",
       "std      63.475557    63.949237    62.909674    63.452234  4.541621e+06\n",
       "min      16.570000    17.200000    14.511000    16.300000  7.440000e+05\n",
       "25%      50.625000    51.250000    49.940000    50.630000  3.914800e+06\n",
       "50%      63.700000    64.490000    63.030000    63.750000  5.775200e+06\n",
       "75%     105.750000   107.625000   104.625000   106.125000  8.524000e+06\n",
       "max     286.150000   287.940000   282.714000   286.330000  5.680120e+07"
      ]
     },
     "execution_count": 27,
     "metadata": {},
     "output_type": "execute_result"
    }
   ],
   "source": [
    "# Check the top stats measure\n",
    "\n",
    "unh_data.describe()"
   ]
  },
  {
   "cell_type": "code",
   "execution_count": 28,
   "metadata": {},
   "outputs": [
    {
     "data": {
      "text/plain": [
       "Open      0\n",
       "High      0\n",
       "Low       0\n",
       "Close     0\n",
       "Volume    0\n",
       "dtype: int64"
      ]
     },
     "execution_count": 28,
     "metadata": {},
     "output_type": "execute_result"
    }
   ],
   "source": [
    "# Check for any missing data\n",
    "\n",
    "unh_data.isna().sum()"
   ]
  }
 ],
 "metadata": {
  "kernelspec": {
   "display_name": "Python 3",
   "language": "python",
   "name": "python3"
  },
  "language_info": {
   "codemirror_mode": {
    "name": "ipython",
    "version": 3
   },
   "file_extension": ".py",
   "mimetype": "text/x-python",
   "name": "python",
   "nbconvert_exporter": "python",
   "pygments_lexer": "ipython3",
   "version": "3.7.3"
  }
 },
 "nbformat": 4,
 "nbformat_minor": 2
}
