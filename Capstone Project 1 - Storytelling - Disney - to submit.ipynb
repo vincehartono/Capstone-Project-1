{
 "cells": [
  {
   "cell_type": "markdown",
   "metadata": {},
   "source": [
    "# Capstone Project 1"
   ]
  },
  {
   "cell_type": "markdown",
   "metadata": {},
   "source": [
    "## Background"
   ]
  },
  {
   "cell_type": "markdown",
   "metadata": {},
   "source": [
    "One of the most debatable questions in the field of Finance is whether it is an Art or Science. We have heard of many individuals who become millionaire from the stock market. Some argue that they are “able to tell” which stocks would increase in value (Art) while others insist that the stock market is purely numbers based calculation (Science). \n",
    "\n",
    "Since I myself are not one of those people that can predict the movement of the stock prices, I would use Science to predict the movement using different statistical approaches. This project will aim to create an algorithm that will predict the stock price.\n",
    "\n",
    "There are different ways to predict the stock prices such as:\n",
    "- Moving Average\n",
    "- Linear Regression\n",
    "- Auto ARIMA\n",
    "- Prophet\n",
    "- Long Short Term Memory (LSTM)\n",
    "\t\n",
    "From the statistical method above, I would like to test which one is able to predict the best movement by comparing it day-per-day once the algorithm is done for 3 months while feeding the news to the algorithm as well."
   ]
  },
  {
   "cell_type": "markdown",
   "metadata": {},
   "source": [
    "## Data Source"
   ]
  },
  {
   "cell_type": "markdown",
   "metadata": {},
   "source": [
    "The data source that I will be using is from Alpha Vantage API and for this storytelling project I will focus solely on Disney company. There is a 20-years limitation on the data that is be sourced from Alpha Vantage. Thus, I am planning to start by January 1, 2000 and try to predict the future prices starting January 1, 2020. In the event that they predictions are way off, I will try to use more datapoints."
   ]
  },
  {
   "cell_type": "markdown",
   "metadata": {},
   "source": [
    "## Data Cleaning"
   ]
  },
  {
   "cell_type": "code",
   "execution_count": 1,
   "metadata": {},
   "outputs": [],
   "source": [
    "# Importing the necessary libraries\n",
    "\n",
    "import pandas as pd\n",
    "import matplotlib.pyplot as plt\n",
    "import pandas_datareader as pdr\n",
    "import numpy as np\n",
    "from datetime import date\n",
    "from alpha_vantage.timeseries import TimeSeries\n",
    "from dateutil.relativedelta import relativedelta\n",
    "from sklearn.metrics import mean_squared_error\n",
    "from math import sqrt\n",
    "%matplotlib inline"
   ]
  },
  {
   "cell_type": "code",
   "execution_count": 42,
   "metadata": {},
   "outputs": [],
   "source": [
    "# Declaring the API Key\n",
    "\n",
    "av_api_key = ''\n",
    "\n",
    "# I won't be using Twitter for now\n",
    "#twitter_api_key = 'jzu3E5CJbVcjziMmJhpMfwBjx'"
   ]
  },
  {
   "cell_type": "code",
   "execution_count": 3,
   "metadata": {},
   "outputs": [],
   "source": [
    "# Use the TimeSeries to declare the API key and output format to pandas\n",
    "\n",
    "ts = TimeSeries(key=av_api_key,output_format='pandas')"
   ]
  },
  {
   "cell_type": "code",
   "execution_count": 4,
   "metadata": {},
   "outputs": [
    {
     "data": {
      "text/html": [
       "<div>\n",
       "<style scoped>\n",
       "    .dataframe tbody tr th:only-of-type {\n",
       "        vertical-align: middle;\n",
       "    }\n",
       "\n",
       "    .dataframe tbody tr th {\n",
       "        vertical-align: top;\n",
       "    }\n",
       "\n",
       "    .dataframe thead th {\n",
       "        text-align: right;\n",
       "    }\n",
       "</style>\n",
       "<table border=\"1\" class=\"dataframe\">\n",
       "  <thead>\n",
       "    <tr style=\"text-align: right;\">\n",
       "      <th></th>\n",
       "      <th>1. open</th>\n",
       "      <th>2. high</th>\n",
       "      <th>3. low</th>\n",
       "      <th>4. close</th>\n",
       "      <th>5. volume</th>\n",
       "    </tr>\n",
       "  </thead>\n",
       "  <tbody>\n",
       "    <tr>\n",
       "      <th>count</th>\n",
       "      <td>5022.000000</td>\n",
       "      <td>5022.000000</td>\n",
       "      <td>5022.000000</td>\n",
       "      <td>5022.000000</td>\n",
       "      <td>5.022000e+03</td>\n",
       "    </tr>\n",
       "    <tr>\n",
       "      <th>mean</th>\n",
       "      <td>14012.162373</td>\n",
       "      <td>14092.542223</td>\n",
       "      <td>13928.485525</td>\n",
       "      <td>14014.808551</td>\n",
       "      <td>2.190519e+08</td>\n",
       "    </tr>\n",
       "    <tr>\n",
       "      <th>std</th>\n",
       "      <td>5165.860782</td>\n",
       "      <td>5175.128154</td>\n",
       "      <td>5155.408258</td>\n",
       "      <td>5166.710904</td>\n",
       "      <td>1.030073e+08</td>\n",
       "    </tr>\n",
       "    <tr>\n",
       "      <th>min</th>\n",
       "      <td>6547.009800</td>\n",
       "      <td>6709.609900</td>\n",
       "      <td>6469.950200</td>\n",
       "      <td>6547.049800</td>\n",
       "      <td>8.410000e+06</td>\n",
       "    </tr>\n",
       "    <tr>\n",
       "      <th>25%</th>\n",
       "      <td>10414.754875</td>\n",
       "      <td>10479.975325</td>\n",
       "      <td>10356.750025</td>\n",
       "      <td>10414.677700</td>\n",
       "      <td>1.439900e+08</td>\n",
       "    </tr>\n",
       "    <tr>\n",
       "      <th>50%</th>\n",
       "      <td>12097.725100</td>\n",
       "      <td>12174.724600</td>\n",
       "      <td>12024.799800</td>\n",
       "      <td>12100.560100</td>\n",
       "      <td>2.148600e+08</td>\n",
       "    </tr>\n",
       "    <tr>\n",
       "      <th>75%</th>\n",
       "      <td>16988.632350</td>\n",
       "      <td>17064.167000</td>\n",
       "      <td>16920.724625</td>\n",
       "      <td>16991.605025</td>\n",
       "      <td>2.727575e+08</td>\n",
       "    </tr>\n",
       "    <tr>\n",
       "      <th>max</th>\n",
       "      <td>28221.800800</td>\n",
       "      <td>28337.490200</td>\n",
       "      <td>28220.560500</td>\n",
       "      <td>28267.160200</td>\n",
       "      <td>2.190810e+09</td>\n",
       "    </tr>\n",
       "  </tbody>\n",
       "</table>\n",
       "</div>"
      ],
      "text/plain": [
       "            1. open       2. high        3. low      4. close     5. volume\n",
       "count   5022.000000   5022.000000   5022.000000   5022.000000  5.022000e+03\n",
       "mean   14012.162373  14092.542223  13928.485525  14014.808551  2.190519e+08\n",
       "std     5165.860782   5175.128154   5155.408258   5166.710904  1.030073e+08\n",
       "min     6547.009800   6709.609900   6469.950200   6547.049800  8.410000e+06\n",
       "25%    10414.754875  10479.975325  10356.750025  10414.677700  1.439900e+08\n",
       "50%    12097.725100  12174.724600  12024.799800  12100.560100  2.148600e+08\n",
       "75%    16988.632350  17064.167000  16920.724625  16991.605025  2.727575e+08\n",
       "max    28221.800800  28337.490200  28220.560500  28267.160200  2.190810e+09"
      ]
     },
     "execution_count": 4,
     "metadata": {},
     "output_type": "execute_result"
    }
   ],
   "source": [
    "# Pull the Dow Jones Industrial standard to check the data\n",
    "\n",
    "dji_data, metadata = ts.get_daily(symbol=\"DJI\", outputsize='full')\n",
    "dji_data.describe()"
   ]
  },
  {
   "cell_type": "code",
   "execution_count": 5,
   "metadata": {},
   "outputs": [
    {
     "data": {
      "text/plain": [
       "1. open      float64\n",
       "2. high      float64\n",
       "3. low       float64\n",
       "4. close     float64\n",
       "5. volume    float64\n",
       "dtype: object"
      ]
     },
     "execution_count": 5,
     "metadata": {},
     "output_type": "execute_result"
    }
   ],
   "source": [
    "# Check the data types\n",
    "\n",
    "dji_data.dtypes"
   ]
  },
  {
   "cell_type": "code",
   "execution_count": 6,
   "metadata": {},
   "outputs": [
    {
     "data": {
      "text/plain": [
       "1. open      0\n",
       "2. high      0\n",
       "3. low       0\n",
       "4. close     0\n",
       "5. volume    0\n",
       "dtype: int64"
      ]
     },
     "execution_count": 6,
     "metadata": {},
     "output_type": "execute_result"
    }
   ],
   "source": [
    "# Check if any missing values in any of the columns\n",
    "\n",
    "dji_data.isna().sum()"
   ]
  },
  {
   "cell_type": "code",
   "execution_count": 7,
   "metadata": {},
   "outputs": [],
   "source": [
    "#dji_data.nunique()"
   ]
  },
  {
   "cell_type": "code",
   "execution_count": 8,
   "metadata": {},
   "outputs": [],
   "source": [
    "# Declare the columns name to be used\n",
    "\n",
    "columns_name = ['date_info','Open', 'High', 'Low', 'Close', 'Volume']"
   ]
  },
  {
   "cell_type": "code",
   "execution_count": 9,
   "metadata": {},
   "outputs": [],
   "source": [
    "# Create a function to pull the data\n",
    "\n",
    "def get_data(company_symbol):\n",
    "    data, metadata = ts.get_daily(symbol = company_symbol, outputsize='full')\n",
    "    data.reset_index(level=0, inplace=True)\n",
    "    data.columns = columns_name\n",
    "    data['days_since'] = (data['date_info'] - min(data['date_info']) ).astype('timedelta64[D]')\n",
    "    return data"
   ]
  },
  {
   "cell_type": "markdown",
   "metadata": {},
   "source": [
    "## Data Storytelling"
   ]
  },
  {
   "cell_type": "markdown",
   "metadata": {},
   "source": [
    "### Disney"
   ]
  },
  {
   "cell_type": "markdown",
   "metadata": {},
   "source": [
    "Disney was founded in 1923 and will be celebring its 100th year anniversary in less than 4 years in 2023. It was started by Walt Disney and his brother Roy Disney.\n",
    "\n",
    "Disney has 2 public offerings during the course of 96 years. The first one is in 1940 and the second one is in 1957."
   ]
  },
  {
   "cell_type": "code",
   "execution_count": 10,
   "metadata": {},
   "outputs": [
    {
     "data": {
      "text/html": [
       "<div>\n",
       "<style scoped>\n",
       "    .dataframe tbody tr th:only-of-type {\n",
       "        vertical-align: middle;\n",
       "    }\n",
       "\n",
       "    .dataframe tbody tr th {\n",
       "        vertical-align: top;\n",
       "    }\n",
       "\n",
       "    .dataframe thead th {\n",
       "        text-align: right;\n",
       "    }\n",
       "</style>\n",
       "<table border=\"1\" class=\"dataframe\">\n",
       "  <thead>\n",
       "    <tr style=\"text-align: right;\">\n",
       "      <th></th>\n",
       "      <th>date_info</th>\n",
       "      <th>Open</th>\n",
       "      <th>High</th>\n",
       "      <th>Low</th>\n",
       "      <th>Close</th>\n",
       "      <th>Volume</th>\n",
       "      <th>days_since</th>\n",
       "    </tr>\n",
       "  </thead>\n",
       "  <tbody>\n",
       "    <tr>\n",
       "      <th>0</th>\n",
       "      <td>1999-12-16</td>\n",
       "      <td>28.31</td>\n",
       "      <td>28.31</td>\n",
       "      <td>27.81</td>\n",
       "      <td>28.00</td>\n",
       "      <td>6311300.0</td>\n",
       "      <td>0.0</td>\n",
       "    </tr>\n",
       "    <tr>\n",
       "      <th>1</th>\n",
       "      <td>1999-12-17</td>\n",
       "      <td>28.00</td>\n",
       "      <td>28.37</td>\n",
       "      <td>27.75</td>\n",
       "      <td>28.25</td>\n",
       "      <td>11931400.0</td>\n",
       "      <td>1.0</td>\n",
       "    </tr>\n",
       "    <tr>\n",
       "      <th>2</th>\n",
       "      <td>1999-12-20</td>\n",
       "      <td>28.19</td>\n",
       "      <td>28.75</td>\n",
       "      <td>27.88</td>\n",
       "      <td>28.14</td>\n",
       "      <td>6948200.0</td>\n",
       "      <td>4.0</td>\n",
       "    </tr>\n",
       "    <tr>\n",
       "      <th>3</th>\n",
       "      <td>1999-12-21</td>\n",
       "      <td>28.56</td>\n",
       "      <td>29.19</td>\n",
       "      <td>28.38</td>\n",
       "      <td>28.44</td>\n",
       "      <td>7119600.0</td>\n",
       "      <td>5.0</td>\n",
       "    </tr>\n",
       "    <tr>\n",
       "      <th>4</th>\n",
       "      <td>1999-12-22</td>\n",
       "      <td>28.13</td>\n",
       "      <td>29.06</td>\n",
       "      <td>28.13</td>\n",
       "      <td>29.00</td>\n",
       "      <td>5294900.0</td>\n",
       "      <td>6.0</td>\n",
       "    </tr>\n",
       "  </tbody>\n",
       "</table>\n",
       "</div>"
      ],
      "text/plain": [
       "   date_info   Open   High    Low  Close      Volume  days_since\n",
       "0 1999-12-16  28.31  28.31  27.81  28.00   6311300.0         0.0\n",
       "1 1999-12-17  28.00  28.37  27.75  28.25  11931400.0         1.0\n",
       "2 1999-12-20  28.19  28.75  27.88  28.14   6948200.0         4.0\n",
       "3 1999-12-21  28.56  29.19  28.38  28.44   7119600.0         5.0\n",
       "4 1999-12-22  28.13  29.06  28.13  29.00   5294900.0         6.0"
      ]
     },
     "execution_count": 10,
     "metadata": {},
     "output_type": "execute_result"
    }
   ],
   "source": [
    "# Use the function to get the Disney data\n",
    "\n",
    "dis_data = get_data(\"DIS\")\n",
    "dis_data.to_csv(\"Disney \" + str(date.today()) + \".csv\")\n",
    "dis_data.head()"
   ]
  },
  {
   "cell_type": "code",
   "execution_count": 11,
   "metadata": {},
   "outputs": [
    {
     "data": {
      "text/html": [
       "<div>\n",
       "<style scoped>\n",
       "    .dataframe tbody tr th:only-of-type {\n",
       "        vertical-align: middle;\n",
       "    }\n",
       "\n",
       "    .dataframe tbody tr th {\n",
       "        vertical-align: top;\n",
       "    }\n",
       "\n",
       "    .dataframe thead th {\n",
       "        text-align: right;\n",
       "    }\n",
       "</style>\n",
       "<table border=\"1\" class=\"dataframe\">\n",
       "  <thead>\n",
       "    <tr style=\"text-align: right;\">\n",
       "      <th></th>\n",
       "      <th>Open</th>\n",
       "      <th>High</th>\n",
       "      <th>Low</th>\n",
       "      <th>Close</th>\n",
       "      <th>Volume</th>\n",
       "      <th>days_since</th>\n",
       "    </tr>\n",
       "  </thead>\n",
       "  <tbody>\n",
       "    <tr>\n",
       "      <th>Open</th>\n",
       "      <td>1.000000</td>\n",
       "      <td>0.999901</td>\n",
       "      <td>0.999896</td>\n",
       "      <td>0.999806</td>\n",
       "      <td>-0.127462</td>\n",
       "      <td>0.869851</td>\n",
       "    </tr>\n",
       "    <tr>\n",
       "      <th>High</th>\n",
       "      <td>0.999901</td>\n",
       "      <td>1.000000</td>\n",
       "      <td>0.999858</td>\n",
       "      <td>0.999909</td>\n",
       "      <td>-0.124074</td>\n",
       "      <td>0.869412</td>\n",
       "    </tr>\n",
       "    <tr>\n",
       "      <th>Low</th>\n",
       "      <td>0.999896</td>\n",
       "      <td>0.999858</td>\n",
       "      <td>1.000000</td>\n",
       "      <td>0.999902</td>\n",
       "      <td>-0.131120</td>\n",
       "      <td>0.870719</td>\n",
       "    </tr>\n",
       "    <tr>\n",
       "      <th>Close</th>\n",
       "      <td>0.999806</td>\n",
       "      <td>0.999909</td>\n",
       "      <td>0.999902</td>\n",
       "      <td>1.000000</td>\n",
       "      <td>-0.127270</td>\n",
       "      <td>0.870021</td>\n",
       "    </tr>\n",
       "    <tr>\n",
       "      <th>Volume</th>\n",
       "      <td>-0.127462</td>\n",
       "      <td>-0.124074</td>\n",
       "      <td>-0.131120</td>\n",
       "      <td>-0.127270</td>\n",
       "      <td>1.000000</td>\n",
       "      <td>0.029239</td>\n",
       "    </tr>\n",
       "    <tr>\n",
       "      <th>days_since</th>\n",
       "      <td>0.869851</td>\n",
       "      <td>0.869412</td>\n",
       "      <td>0.870719</td>\n",
       "      <td>0.870021</td>\n",
       "      <td>0.029239</td>\n",
       "      <td>1.000000</td>\n",
       "    </tr>\n",
       "  </tbody>\n",
       "</table>\n",
       "</div>"
      ],
      "text/plain": [
       "                Open      High       Low     Close    Volume  days_since\n",
       "Open        1.000000  0.999901  0.999896  0.999806 -0.127462    0.869851\n",
       "High        0.999901  1.000000  0.999858  0.999909 -0.124074    0.869412\n",
       "Low         0.999896  0.999858  1.000000  0.999902 -0.131120    0.870719\n",
       "Close       0.999806  0.999909  0.999902  1.000000 -0.127270    0.870021\n",
       "Volume     -0.127462 -0.124074 -0.131120 -0.127270  1.000000    0.029239\n",
       "days_since  0.869851  0.869412  0.870719  0.870021  0.029239    1.000000"
      ]
     },
     "execution_count": 11,
     "metadata": {},
     "output_type": "execute_result"
    }
   ],
   "source": [
    "# Find the Pearson correlation on the data\n",
    "\n",
    "pearsoncorr = dis_data.corr(method='pearson')\n",
    "pearsoncorr"
   ]
  },
  {
   "cell_type": "markdown",
   "metadata": {},
   "source": [
    "Since the data is mostly prices that is within one day, the Pearson correlation is close to 0"
   ]
  },
  {
   "cell_type": "code",
   "execution_count": 12,
   "metadata": {},
   "outputs": [],
   "source": [
    "# Find the slope and intercept for the linear regression\n",
    "\n",
    "slope, intercept = np.polyfit(dis_data['days_since'], dis_data['Close'],1)"
   ]
  },
  {
   "cell_type": "code",
   "execution_count": 13,
   "metadata": {
    "scrolled": true
   },
   "outputs": [],
   "source": [
    "# Create the line for the Linear Regression\n",
    "\n",
    "y = slope * dis_data['days_since'] + intercept"
   ]
  },
  {
   "cell_type": "code",
   "execution_count": 14,
   "metadata": {},
   "outputs": [
    {
     "name": "stderr",
     "output_type": "stream",
     "text": [
      "c:\\users\\vince\\appdata\\local\\programs\\python\\python37-32\\lib\\site-packages\\pandas\\plotting\\_converter.py:129: FutureWarning: Using an implicitly registered datetime converter for a matplotlib plotting method. The converter was registered by pandas on import. Future versions of pandas will require you to explicitly register matplotlib converters.\n",
      "\n",
      "To register the converters:\n",
      "\t>>> from pandas.plotting import register_matplotlib_converters\n",
      "\t>>> register_matplotlib_converters()\n",
      "  warnings.warn(msg, FutureWarning)\n"
     ]
    },
    {
     "data": {
      "image/png": "[encoded data removed]",
      "text/plain": [
       "<Figure size 432x288 with 1 Axes>"
      ]
     },
     "metadata": {},
     "output_type": "display_data"
    }
   ],
   "source": [
    "# Plot the 'Close' column to check if there is any irregularities in the data\n",
    "\n",
    "_ = plt.style.use('seaborn-whitegrid')\n",
    "_ = plt.plot(dis_data['date_info'], dis_data['Close'], 'b')\n",
    "_ = plt.plot(dis_data['date_info'], y, 'r')\n",
    "_ = plt.xlabel(\"Year\")\n",
    "_ = plt.ylabel(\"Closing Price\")\n",
    "_ = plt.title(\"Disney (DIS)\")"
   ]
  },
  {
   "cell_type": "markdown",
   "metadata": {},
   "source": [
    "From the graph above, we can see that if we do linear regression from 2000 to 2020 (red line), it has high Root Mean Square Error (RMSE) meaning that the model does not fit well with the actual data."
   ]
  },
  {
   "cell_type": "code",
   "execution_count": 15,
   "metadata": {},
   "outputs": [
    {
     "data": {
      "text/plain": [
       "17.69248587685969"
      ]
     },
     "execution_count": 15,
     "metadata": {},
     "output_type": "execute_result"
    }
   ],
   "source": [
    "# Calculating the RMSE\n",
    "\n",
    "rmse = sqrt(mean_squared_error(dis_data['Close'], y))\n",
    "rmse"
   ]
  },
  {
   "cell_type": "markdown",
   "metadata": {},
   "source": [
    "In order to fit and project the future prices, a better model is needed. One approach is to use Machine Learning and this method will be added in the next section."
   ]
  },
  {
   "cell_type": "code",
   "execution_count": 16,
   "metadata": {},
   "outputs": [],
   "source": [
    "# Add new column to find the change per day\n",
    "\n",
    "dis_data['Delta_Open_Close'] = dis_data.apply(lambda row: (row.Close - row.Open) / row.Open, axis=1)\n",
    "dis_data['Delta_High_Low'] = dis_data.apply(lambda row: row.High - row.Low, axis=1)"
   ]
  },
  {
   "cell_type": "code",
   "execution_count": 17,
   "metadata": {},
   "outputs": [],
   "source": [
    "# Find the starting date, ending date and number of days of data\n",
    "\n",
    "min_date = min(dis_data['date_info']).date()\n",
    "max_date = max(dis_data['date_info']).date()\n",
    "count_date = len(dis_data.index)\n",
    "no_years = relativedelta(max_date, min_date).years"
   ]
  },
  {
   "cell_type": "code",
   "execution_count": 18,
   "metadata": {},
   "outputs": [
    {
     "name": "stdout",
     "output_type": "stream",
     "text": [
      "The earliest date for Disney data is : Dec 16 1999\n",
      "The latest date for Disney data is : Dec 17 2019\n",
      "Number of days of transactions : 5033 days in 20 years\n"
     ]
    }
   ],
   "source": [
    "# Print the results\n",
    "\n",
    "print(\"The earliest date for Disney data is : \" + str(min_date.strftime(\"%b %d %Y\")))\n",
    "print(\"The latest date for Disney data is : \" + str(max_date.strftime(\"%b %d %Y\")))\n",
    "print(\"Number of days of transactions : \" + str(count_date) + \" days in \" + str(no_years) + \" years\")"
   ]
  },
  {
   "cell_type": "code",
   "execution_count": 19,
   "metadata": {},
   "outputs": [
    {
     "data": {
      "text/html": [
       "<div>\n",
       "<style scoped>\n",
       "    .dataframe tbody tr th:only-of-type {\n",
       "        vertical-align: middle;\n",
       "    }\n",
       "\n",
       "    .dataframe tbody tr th {\n",
       "        vertical-align: top;\n",
       "    }\n",
       "\n",
       "    .dataframe thead th {\n",
       "        text-align: right;\n",
       "    }\n",
       "</style>\n",
       "<table border=\"1\" class=\"dataframe\">\n",
       "  <thead>\n",
       "    <tr style=\"text-align: right;\">\n",
       "      <th></th>\n",
       "      <th>Open</th>\n",
       "      <th>High</th>\n",
       "      <th>Low</th>\n",
       "      <th>Close</th>\n",
       "      <th>Volume</th>\n",
       "      <th>days_since</th>\n",
       "      <th>Delta_Open_Close</th>\n",
       "      <th>Delta_High_Low</th>\n",
       "    </tr>\n",
       "  </thead>\n",
       "  <tbody>\n",
       "    <tr>\n",
       "      <th>count</th>\n",
       "      <td>5033.000000</td>\n",
       "      <td>5033.000000</td>\n",
       "      <td>5033.000000</td>\n",
       "      <td>5033.000000</td>\n",
       "      <td>5.033000e+03</td>\n",
       "      <td>5033.000000</td>\n",
       "      <td>5033.000000</td>\n",
       "      <td>5033.000000</td>\n",
       "    </tr>\n",
       "    <tr>\n",
       "      <th>mean</th>\n",
       "      <td>54.236299</td>\n",
       "      <td>54.719487</td>\n",
       "      <td>53.727237</td>\n",
       "      <td>54.242694</td>\n",
       "      <td>9.196969e+06</td>\n",
       "      <td>3655.687065</td>\n",
       "      <td>0.000493</td>\n",
       "      <td>0.992250</td>\n",
       "    </tr>\n",
       "    <tr>\n",
       "      <th>std</th>\n",
       "      <td>35.912215</td>\n",
       "      <td>36.091899</td>\n",
       "      <td>35.687528</td>\n",
       "      <td>35.889898</td>\n",
       "      <td>5.495803e+06</td>\n",
       "      <td>2108.905156</td>\n",
       "      <td>0.015209</td>\n",
       "      <td>0.728324</td>\n",
       "    </tr>\n",
       "    <tr>\n",
       "      <th>min</th>\n",
       "      <td>13.800000</td>\n",
       "      <td>14.100000</td>\n",
       "      <td>13.480000</td>\n",
       "      <td>13.770000</td>\n",
       "      <td>1.487900e+06</td>\n",
       "      <td>0.000000</td>\n",
       "      <td>-0.081545</td>\n",
       "      <td>0.000000</td>\n",
       "    </tr>\n",
       "    <tr>\n",
       "      <th>25%</th>\n",
       "      <td>27.050000</td>\n",
       "      <td>27.440000</td>\n",
       "      <td>26.770000</td>\n",
       "      <td>27.050000</td>\n",
       "      <td>6.056682e+06</td>\n",
       "      <td>1831.000000</td>\n",
       "      <td>-0.007038</td>\n",
       "      <td>0.520000</td>\n",
       "    </tr>\n",
       "    <tr>\n",
       "      <th>50%</th>\n",
       "      <td>35.020000</td>\n",
       "      <td>35.350000</td>\n",
       "      <td>34.690000</td>\n",
       "      <td>35.050000</td>\n",
       "      <td>7.901886e+06</td>\n",
       "      <td>3654.000000</td>\n",
       "      <td>0.000088</td>\n",
       "      <td>0.790000</td>\n",
       "    </tr>\n",
       "    <tr>\n",
       "      <th>75%</th>\n",
       "      <td>91.750000</td>\n",
       "      <td>92.300000</td>\n",
       "      <td>90.950000</td>\n",
       "      <td>91.750000</td>\n",
       "      <td>1.073660e+07</td>\n",
       "      <td>5480.000000</td>\n",
       "      <td>0.007853</td>\n",
       "      <td>1.240000</td>\n",
       "    </tr>\n",
       "    <tr>\n",
       "      <th>max</th>\n",
       "      <td>152.940000</td>\n",
       "      <td>153.410000</td>\n",
       "      <td>151.150000</td>\n",
       "      <td>151.640000</td>\n",
       "      <td>1.166250e+08</td>\n",
       "      <td>7306.000000</td>\n",
       "      <td>0.126951</td>\n",
       "      <td>13.080000</td>\n",
       "    </tr>\n",
       "  </tbody>\n",
       "</table>\n",
       "</div>"
      ],
      "text/plain": [
       "              Open         High          Low        Close        Volume  \\\n",
       "count  5033.000000  5033.000000  5033.000000  5033.000000  5.033000e+03   \n",
       "mean     54.236299    54.719487    53.727237    54.242694  9.196969e+06   \n",
       "std      35.912215    36.091899    35.687528    35.889898  5.495803e+06   \n",
       "min      13.800000    14.100000    13.480000    13.770000  1.487900e+06   \n",
       "25%      27.050000    27.440000    26.770000    27.050000  6.056682e+06   \n",
       "50%      35.020000    35.350000    34.690000    35.050000  7.901886e+06   \n",
       "75%      91.750000    92.300000    90.950000    91.750000  1.073660e+07   \n",
       "max     152.940000   153.410000   151.150000   151.640000  1.166250e+08   \n",
       "\n",
       "        days_since  Delta_Open_Close  Delta_High_Low  \n",
       "count  5033.000000       5033.000000     5033.000000  \n",
       "mean   3655.687065          0.000493        0.992250  \n",
       "std    2108.905156          0.015209        0.728324  \n",
       "min       0.000000         -0.081545        0.000000  \n",
       "25%    1831.000000         -0.007038        0.520000  \n",
       "50%    3654.000000          0.000088        0.790000  \n",
       "75%    5480.000000          0.007853        1.240000  \n",
       "max    7306.000000          0.126951       13.080000  "
      ]
     },
     "execution_count": 19,
     "metadata": {},
     "output_type": "execute_result"
    }
   ],
   "source": [
    "# Check the top stats measure\n",
    "\n",
    "dis_data.describe()"
   ]
  },
  {
   "cell_type": "code",
   "execution_count": 20,
   "metadata": {},
   "outputs": [
    {
     "data": {
      "text/plain": [
       "date_info           0\n",
       "Open                0\n",
       "High                0\n",
       "Low                 0\n",
       "Close               0\n",
       "Volume              0\n",
       "days_since          0\n",
       "Delta_Open_Close    0\n",
       "Delta_High_Low      0\n",
       "dtype: int64"
      ]
     },
     "execution_count": 20,
     "metadata": {},
     "output_type": "execute_result"
    }
   ],
   "source": [
    "# Check for any missing data\n",
    "\n",
    "dis_data.isna().sum()"
   ]
  },
  {
   "cell_type": "code",
   "execution_count": 21,
   "metadata": {},
   "outputs": [],
   "source": [
    "# Find the high, low\n",
    "\n",
    "min_close = min(dis_data.Close)\n",
    "max_close = max(dis_data.Close)\n",
    "increase = (max_close - min_close) / min_close"
   ]
  },
  {
   "cell_type": "code",
   "execution_count": 22,
   "metadata": {},
   "outputs": [
    {
     "name": "stdout",
     "output_type": "stream",
     "text": [
      "The lowest closing price for Disney stock is : $13.77\n",
      "The highest closing price for Disney stock is : $151.64\n",
      "If you invest $100 in Disney stock in Dec 16 1999, it will grow to $1001.23\n"
     ]
    }
   ],
   "source": [
    "# Print the results\n",
    "\n",
    "print(\"The lowest closing price for Disney stock is : $\" + str(min_close))\n",
    "print(\"The highest closing price for Disney stock is : $\" + str(max_close))\n",
    "print(\"If you invest $100 in Disney stock in \" + str(min_date.strftime(\"%b %d %Y\")) + \", it will grow to $\" + str(round(100*increase,2)))"
   ]
  },
  {
   "cell_type": "markdown",
   "metadata": {},
   "source": [
    "#### Open vs Close"
   ]
  },
  {
   "cell_type": "markdown",
   "metadata": {},
   "source": [
    "We want to see if there is any big changes within one day of trading by checking the change between stock opening price vs stock closing price."
   ]
  },
  {
   "cell_type": "code",
   "execution_count": 23,
   "metadata": {},
   "outputs": [
    {
     "name": "stdout",
     "output_type": "stream",
     "text": [
      "Biggest Change in One Day for uptick is 12.7% and for downtick is -16.23%\n"
     ]
    }
   ],
   "source": [
    "# Find the min and max of the change between open vs close\n",
    "\n",
    "print(\"Biggest Change in One Day for uptick is \" + str(max(round(dis_data['Delta_Open_Close']*100, 2))) \n",
    "      + \"% and for downtick is -\" + str(min(round(dis_data['Delta_Open_Close']*199, 2)) * -1) + \"%\")"
   ]
  },
  {
   "cell_type": "code",
   "execution_count": 24,
   "metadata": {},
   "outputs": [
    {
     "data": {
      "image/png": "[encoded data removed]",
      "text/plain": [
       "<Figure size 432x288 with 1 Axes>"
      ]
     },
     "metadata": {},
     "output_type": "display_data"
    }
   ],
   "source": [
    "# Plot a histogram of the changes\n",
    "\n",
    "_ = plt.hist(dis_data['Delta_Open_Close'], bins = 50, density=True)\n",
    "_ = plt.xlabel(\"% Percent Change\")\n",
    "_ = plt.ylabel(\"Frequency\")"
   ]
  },
  {
   "cell_type": "code",
   "execution_count": 25,
   "metadata": {},
   "outputs": [],
   "source": [
    "# Find the mean and standard deviation of the change\n",
    "\n",
    "mu = np.mean(dis_data['Delta_Open_Close'])\n",
    "sigma = np.std(dis_data['Delta_Open_Close'])"
   ]
  },
  {
   "cell_type": "code",
   "execution_count": 26,
   "metadata": {},
   "outputs": [
    {
     "name": "stdout",
     "output_type": "stream",
     "text": [
      "From Opening price, Disney stock has an average to change 0.05% with standard deviation of 1.52% to Closing price\n"
     ]
    }
   ],
   "source": [
    "print(\"From Opening price, Disney stock has an average to change \" + str(round(mu*100,2)) + \"% with standard deviation of \" \n",
    "      + str(round(sigma*100, 2)) + \"% to Closing price\")"
   ]
  },
  {
   "cell_type": "markdown",
   "metadata": {},
   "source": [
    "#### Trading Days"
   ]
  },
  {
   "cell_type": "markdown",
   "metadata": {},
   "source": [
    "For the next analysis, we want to see the change between consecutive trading days."
   ]
  },
  {
   "cell_type": "code",
   "execution_count": 27,
   "metadata": {},
   "outputs": [],
   "source": [
    "# Create a function to find the change between 2 trading days\n",
    "\n",
    "def next_trad_day_delta(data):\n",
    "    delta_change = []\n",
    "    for i in range(len(data) - 1):\n",
    "        change = (data[i+1] - data[i]) / data[i]\n",
    "        delta_change.append(change)\n",
    "    \n",
    "    return delta_change"
   ]
  },
  {
   "cell_type": "code",
   "execution_count": 28,
   "metadata": {},
   "outputs": [],
   "source": [
    "# Create a list of the changes between the 2 trading days\n",
    "\n",
    "dis_delta_change = next_trad_day_delta(dis_data.Close)"
   ]
  },
  {
   "cell_type": "code",
   "execution_count": 29,
   "metadata": {},
   "outputs": [
    {
     "name": "stdout",
     "output_type": "stream",
     "text": [
      "Biggest uptick change in between two trading days is 15.97% and for downtick is -18.36%\n"
     ]
    }
   ],
   "source": [
    "print(\"Biggest uptick change in between two trading days is \" + str(round(max(dis_delta_change)*100, 2)) \n",
    "      + \"% and for downtick is -\" + str(round(min(dis_delta_change)*100, 2) * -1) + \"%\")"
   ]
  },
  {
   "cell_type": "code",
   "execution_count": 30,
   "metadata": {},
   "outputs": [],
   "source": [
    "# Find the mean and standard deviation of the change\n",
    "\n",
    "mu_delta = np.mean(dis_delta_change)\n",
    "sigma_delta = np.std(dis_delta_change)"
   ]
  },
  {
   "cell_type": "code",
   "execution_count": 31,
   "metadata": {},
   "outputs": [
    {
     "name": "stdout",
     "output_type": "stream",
     "text": [
      "In average, Disney stock has an average to increase 0.05% with standard deviation of 1.86% to the previous day\n"
     ]
    }
   ],
   "source": [
    "print(\"In average, Disney stock has an average to increase \" + str(round(mu_delta*100,2)) + \"% with standard deviation of \" \n",
    "      + str(round(sigma_delta*100, 2)) + \"% to the previous day\")"
   ]
  },
  {
   "cell_type": "code",
   "execution_count": 32,
   "metadata": {},
   "outputs": [
    {
     "data": {
      "image/png": "[encoded data removed]",
      "text/plain": [
       "<Figure size 432x288 with 1 Axes>"
      ]
     },
     "metadata": {},
     "output_type": "display_data"
    }
   ],
   "source": [
    "# Plot a histogram of the change\n",
    "\n",
    "_ = plt.hist(dis_delta_change, bins = 100)\n",
    "_ = plt.xlabel(\"& Change\")\n",
    "_ = plt.ylabel(\"Frequency\")"
   ]
  },
  {
   "cell_type": "markdown",
   "metadata": {},
   "source": [
    "#### By period"
   ]
  },
  {
   "cell_type": "markdown",
   "metadata": {},
   "source": [
    "In this section, we want to extend the analysis in the section above to a more broader time period of 5, 10, 20 and 253 trading days."
   ]
  },
  {
   "cell_type": "code",
   "execution_count": 33,
   "metadata": {},
   "outputs": [],
   "source": [
    "# Create a function to find the change given 2 time ranges (in days)\n",
    "\n",
    "def find_change(data, delta):\n",
    "    biggest_change = 0\n",
    "    smallest_change = max(data) - min(data)\n",
    "    \n",
    "    for i in range(len(data) - delta):\n",
    "        change = data[i+delta] - data[i]\n",
    "        if change > biggest_change:\n",
    "            biggest_change = change\n",
    "        elif change < smallest_change:\n",
    "            smallest_change = change\n",
    "        else: next\n",
    "            \n",
    "    return np.array([delta, smallest_change, biggest_change])"
   ]
  },
  {
   "cell_type": "code",
   "execution_count": 34,
   "metadata": {},
   "outputs": [],
   "source": [
    "# Create a DataFrame for the summary of different time delta\n",
    "\n",
    "def create_summary(data):\n",
    "    \n",
    "    summary = pd.DataFrame(columns = ['Days Delta', 'Biggest Drop', 'Biggest Increase'])\n",
    "    \n",
    "    for i in [1, 5, 10, 20, 253]:\n",
    "        array_ = find_change(data, i)\n",
    "        summary.loc[len(summary)] = array_\n",
    "        \n",
    "    return summary"
   ]
  },
  {
   "cell_type": "code",
   "execution_count": 35,
   "metadata": {},
   "outputs": [
    {
     "data": {
      "text/html": [
       "<div>\n",
       "<style scoped>\n",
       "    .dataframe tbody tr th:only-of-type {\n",
       "        vertical-align: middle;\n",
       "    }\n",
       "\n",
       "    .dataframe tbody tr th {\n",
       "        vertical-align: top;\n",
       "    }\n",
       "\n",
       "    .dataframe thead th {\n",
       "        text-align: right;\n",
       "    }\n",
       "</style>\n",
       "<table border=\"1\" class=\"dataframe\">\n",
       "  <thead>\n",
       "    <tr style=\"text-align: right;\">\n",
       "      <th></th>\n",
       "      <th>Days Delta</th>\n",
       "      <th>Biggest Drop</th>\n",
       "      <th>Biggest Increase</th>\n",
       "    </tr>\n",
       "  </thead>\n",
       "  <tbody>\n",
       "    <tr>\n",
       "      <th>0</th>\n",
       "      <td>1.0</td>\n",
       "      <td>-11.16</td>\n",
       "      <td>13.46</td>\n",
       "    </tr>\n",
       "    <tr>\n",
       "      <th>1</th>\n",
       "      <td>5.0</td>\n",
       "      <td>-13.69</td>\n",
       "      <td>17.45</td>\n",
       "    </tr>\n",
       "    <tr>\n",
       "      <th>2</th>\n",
       "      <td>10.0</td>\n",
       "      <td>-15.64</td>\n",
       "      <td>23.32</td>\n",
       "    </tr>\n",
       "    <tr>\n",
       "      <th>3</th>\n",
       "      <td>20.0</td>\n",
       "      <td>-22.89</td>\n",
       "      <td>29.21</td>\n",
       "    </tr>\n",
       "    <tr>\n",
       "      <th>4</th>\n",
       "      <td>253.0</td>\n",
       "      <td>-26.53</td>\n",
       "      <td>40.46</td>\n",
       "    </tr>\n",
       "  </tbody>\n",
       "</table>\n",
       "</div>"
      ],
      "text/plain": [
       "   Days Delta  Biggest Drop  Biggest Increase\n",
       "0         1.0        -11.16             13.46\n",
       "1         5.0        -13.69             17.45\n",
       "2        10.0        -15.64             23.32\n",
       "3        20.0        -22.89             29.21\n",
       "4       253.0        -26.53             40.46"
      ]
     },
     "execution_count": 35,
     "metadata": {},
     "output_type": "execute_result"
    }
   ],
   "source": [
    "# Apply the function to find the difference for Disney\n",
    "\n",
    "disney_summary = create_summary(dis_data.Close)\n",
    "disney_summary"
   ]
  },
  {
   "cell_type": "code",
   "execution_count": 36,
   "metadata": {},
   "outputs": [
    {
     "data": {
      "text/html": [
       "<div>\n",
       "<style scoped>\n",
       "    .dataframe tbody tr th:only-of-type {\n",
       "        vertical-align: middle;\n",
       "    }\n",
       "\n",
       "    .dataframe tbody tr th {\n",
       "        vertical-align: top;\n",
       "    }\n",
       "\n",
       "    .dataframe thead th {\n",
       "        text-align: right;\n",
       "    }\n",
       "</style>\n",
       "<table border=\"1\" class=\"dataframe\">\n",
       "  <thead>\n",
       "    <tr style=\"text-align: right;\">\n",
       "      <th></th>\n",
       "      <th>Biggest Drop</th>\n",
       "      <th>Biggest Increase</th>\n",
       "    </tr>\n",
       "    <tr>\n",
       "      <th>Days Delta</th>\n",
       "      <th></th>\n",
       "      <th></th>\n",
       "    </tr>\n",
       "  </thead>\n",
       "  <tbody>\n",
       "    <tr>\n",
       "      <th>1.0</th>\n",
       "      <td>-11.16</td>\n",
       "      <td>13.46</td>\n",
       "    </tr>\n",
       "    <tr>\n",
       "      <th>5.0</th>\n",
       "      <td>-13.69</td>\n",
       "      <td>17.45</td>\n",
       "    </tr>\n",
       "    <tr>\n",
       "      <th>10.0</th>\n",
       "      <td>-15.64</td>\n",
       "      <td>23.32</td>\n",
       "    </tr>\n",
       "    <tr>\n",
       "      <th>20.0</th>\n",
       "      <td>-22.89</td>\n",
       "      <td>29.21</td>\n",
       "    </tr>\n",
       "    <tr>\n",
       "      <th>253.0</th>\n",
       "      <td>-26.53</td>\n",
       "      <td>40.46</td>\n",
       "    </tr>\n",
       "  </tbody>\n",
       "</table>\n",
       "</div>"
      ],
      "text/plain": [
       "            Biggest Drop  Biggest Increase\n",
       "Days Delta                                \n",
       "1.0               -11.16             13.46\n",
       "5.0               -13.69             17.45\n",
       "10.0              -15.64             23.32\n",
       "20.0              -22.89             29.21\n",
       "253.0             -26.53             40.46"
      ]
     },
     "execution_count": 36,
     "metadata": {},
     "output_type": "execute_result"
    }
   ],
   "source": [
    "# Changing the index to the time delta\n",
    "\n",
    "disney_summary.set_index('Days Delta')"
   ]
  },
  {
   "cell_type": "markdown",
   "metadata": {},
   "source": [
    "#### Longest Increase/Drop"
   ]
  },
  {
   "cell_type": "markdown",
   "metadata": {},
   "source": [
    "The last analysis that we want to see if what is the longest consecutive increase or decrease of the stock price between 2000 to 2020."
   ]
  },
  {
   "cell_type": "code",
   "execution_count": 37,
   "metadata": {},
   "outputs": [
    {
     "data": {
      "text/html": [
       "<div>\n",
       "<style scoped>\n",
       "    .dataframe tbody tr th:only-of-type {\n",
       "        vertical-align: middle;\n",
       "    }\n",
       "\n",
       "    .dataframe tbody tr th {\n",
       "        vertical-align: top;\n",
       "    }\n",
       "\n",
       "    .dataframe thead th {\n",
       "        text-align: right;\n",
       "    }\n",
       "</style>\n",
       "<table border=\"1\" class=\"dataframe\">\n",
       "  <thead>\n",
       "    <tr style=\"text-align: right;\">\n",
       "      <th></th>\n",
       "      <th>date_info</th>\n",
       "      <th>Open</th>\n",
       "      <th>High</th>\n",
       "      <th>Low</th>\n",
       "      <th>Close</th>\n",
       "      <th>Volume</th>\n",
       "      <th>days_since</th>\n",
       "      <th>Delta_Open_Close</th>\n",
       "      <th>Delta_High_Low</th>\n",
       "    </tr>\n",
       "  </thead>\n",
       "  <tbody>\n",
       "    <tr>\n",
       "      <th>0</th>\n",
       "      <td>1999-12-16</td>\n",
       "      <td>28.31</td>\n",
       "      <td>28.31</td>\n",
       "      <td>27.81</td>\n",
       "      <td>28.00</td>\n",
       "      <td>6311300.0</td>\n",
       "      <td>0.0</td>\n",
       "      <td>-0.010950</td>\n",
       "      <td>0.50</td>\n",
       "    </tr>\n",
       "    <tr>\n",
       "      <th>1</th>\n",
       "      <td>1999-12-17</td>\n",
       "      <td>28.00</td>\n",
       "      <td>28.37</td>\n",
       "      <td>27.75</td>\n",
       "      <td>28.25</td>\n",
       "      <td>11931400.0</td>\n",
       "      <td>1.0</td>\n",
       "      <td>0.008929</td>\n",
       "      <td>0.62</td>\n",
       "    </tr>\n",
       "    <tr>\n",
       "      <th>2</th>\n",
       "      <td>1999-12-20</td>\n",
       "      <td>28.19</td>\n",
       "      <td>28.75</td>\n",
       "      <td>27.88</td>\n",
       "      <td>28.14</td>\n",
       "      <td>6948200.0</td>\n",
       "      <td>4.0</td>\n",
       "      <td>-0.001774</td>\n",
       "      <td>0.87</td>\n",
       "    </tr>\n",
       "    <tr>\n",
       "      <th>3</th>\n",
       "      <td>1999-12-21</td>\n",
       "      <td>28.56</td>\n",
       "      <td>29.19</td>\n",
       "      <td>28.38</td>\n",
       "      <td>28.44</td>\n",
       "      <td>7119600.0</td>\n",
       "      <td>5.0</td>\n",
       "      <td>-0.004202</td>\n",
       "      <td>0.81</td>\n",
       "    </tr>\n",
       "    <tr>\n",
       "      <th>4</th>\n",
       "      <td>1999-12-22</td>\n",
       "      <td>28.13</td>\n",
       "      <td>29.06</td>\n",
       "      <td>28.13</td>\n",
       "      <td>29.00</td>\n",
       "      <td>5294900.0</td>\n",
       "      <td>6.0</td>\n",
       "      <td>0.030928</td>\n",
       "      <td>0.93</td>\n",
       "    </tr>\n",
       "  </tbody>\n",
       "</table>\n",
       "</div>"
      ],
      "text/plain": [
       "   date_info   Open   High    Low  Close      Volume  days_since  \\\n",
       "0 1999-12-16  28.31  28.31  27.81  28.00   6311300.0         0.0   \n",
       "1 1999-12-17  28.00  28.37  27.75  28.25  11931400.0         1.0   \n",
       "2 1999-12-20  28.19  28.75  27.88  28.14   6948200.0         4.0   \n",
       "3 1999-12-21  28.56  29.19  28.38  28.44   7119600.0         5.0   \n",
       "4 1999-12-22  28.13  29.06  28.13  29.00   5294900.0         6.0   \n",
       "\n",
       "   Delta_Open_Close  Delta_High_Low  \n",
       "0         -0.010950            0.50  \n",
       "1          0.008929            0.62  \n",
       "2         -0.001774            0.87  \n",
       "3         -0.004202            0.81  \n",
       "4          0.030928            0.93  "
      ]
     },
     "execution_count": 37,
     "metadata": {},
     "output_type": "execute_result"
    }
   ],
   "source": [
    "dis_data.head()"
   ]
  },
  {
   "cell_type": "code",
   "execution_count": 38,
   "metadata": {},
   "outputs": [],
   "source": [
    "# Create a function to count consecutive days of trend\n",
    "\n",
    "def continuous_days(data):\n",
    "    longest_inc = 0\n",
    "    longest_dec = 0\n",
    "    counter_pos = 0\n",
    "    counter_neg = 0\n",
    "    \n",
    "    for i in range(len(data) - 1):\n",
    "        change = data.Close[i+1] - data.Close[i]\n",
    "        \n",
    "        if change > 0:\n",
    "            counter_pos += 1\n",
    "            counter_neg = 0\n",
    "        else:\n",
    "            counter_pos = 0\n",
    "            counter_neg += 1\n",
    "            \n",
    "        if counter_pos > longest_inc:\n",
    "            longest_inc = counter_pos\n",
    "            date_end_inc = data.iloc[i, 0]\n",
    "            date_start_inc = data.iloc[i-longest_inc, 0]\n",
    "        elif counter_neg > longest_dec:\n",
    "            longest_dec = counter_neg\n",
    "            date_end_dec = data.iloc[i, 0]\n",
    "            date_start_dec = data.iloc[i-longest_inc, 0]\n",
    "                \n",
    "    return np.array([longest_inc, date_start_inc.strftime(\"%b %d %Y\"), date_end_inc.strftime(\"%b %d %Y\"), \n",
    "                     longest_dec, date_start_dec.strftime(\"%b %d %Y\"), date_end_dec.strftime(\"%b %d %Y\")])"
   ]
  },
  {
   "cell_type": "code",
   "execution_count": 39,
   "metadata": {},
   "outputs": [],
   "source": [
    "# Find the continuous trend for Disney\n",
    "\n",
    "cont = continuous_days(dis_data)"
   ]
  },
  {
   "cell_type": "code",
   "execution_count": 40,
   "metadata": {},
   "outputs": [
    {
     "name": "stdout",
     "output_type": "stream",
     "text": [
      "Longest non-stop increase is 12 trading days between Aug 29 2013 and Sep 17 2013\n"
     ]
    }
   ],
   "source": [
    "print(\"Longest non-stop increase is \" + str(cont[0]) + \" trading days between \" + str(cont[1]) + \" and \" + str(cont[2]))"
   ]
  },
  {
   "cell_type": "code",
   "execution_count": 41,
   "metadata": {},
   "outputs": [
    {
     "name": "stdout",
     "output_type": "stream",
     "text": [
      "Longest non-stop decrease is 10 trading days between Aug 19 2003 and Aug 27 2003\n"
     ]
    }
   ],
   "source": [
    "print(\"Longest non-stop decrease is \" + str(cont[3]) + \" trading days between \" + str(cont[4]) + \" and \" + str(cont[5]))"
   ]
  }
 ],
 "metadata": {
  "kernelspec": {
   "display_name": "Python 3",
   "language": "python",
   "name": "python3"
  },
  "language_info": {
   "codemirror_mode": {
    "name": "ipython",
    "version": 3
   },
   "file_extension": ".py",
   "mimetype": "text/x-python",
   "name": "python",
   "nbconvert_exporter": "python",
   "pygments_lexer": "ipython3",
   "version": "3.7.3"
  }
 },
 "nbformat": 4,
 "nbformat_minor": 2
}
