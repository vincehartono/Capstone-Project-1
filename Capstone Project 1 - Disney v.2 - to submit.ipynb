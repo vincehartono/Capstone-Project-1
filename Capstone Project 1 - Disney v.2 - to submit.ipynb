{
 "cells": [
  {
   "cell_type": "markdown",
   "metadata": {},
   "source": [
    "# Capstone Project 1"
   ]
  },
  {
   "cell_type": "markdown",
   "metadata": {},
   "source": [
    "## Background"
   ]
  },
  {
   "cell_type": "markdown",
   "metadata": {},
   "source": [
    "One of the most debatable questions in the field of Finance is whether it is an Art or Science. We have heard of many individuals who become millionaire from the stock market. Some argue that they are “able to tell” which stocks would increase in value (Art) while others insist that the stock market is purely numbers based calculation (Science). \n",
    "\n",
    "Since I myself are not one of those people that can predict the movement of the stock prices, I would use Science to predict the movement using different statistical approaches. This project will aim to create an algorithm that will predict the stock price.\n",
    "\n",
    "There are different ways to predict the stock prices such as:\n",
    "- Moving Average\n",
    "- Linear Regression\n",
    "- Auto ARIMA\n",
    "- Prophet\n",
    "- Long Short Term Memory (LSTM)\n",
    "\t\n",
    "From the statistical method above, I would like to test which one is able to predict the best movement by comparing it day-per-day once the algorithm is done for 3 months while feeding the news to the algorithm as well."
   ]
  },
  {
   "cell_type": "markdown",
   "metadata": {},
   "source": [
    "## Data Source"
   ]
  },
  {
   "cell_type": "markdown",
   "metadata": {},
   "source": [
    "The data source that I will be using is from Alpha Vantage API and for this storytelling project I will focus solely on Disney company. There is a 20-years limitation on the data that is be sourced from Alpha Vantage. Thus, I am planning to start by January 1, 2000 and try to predict the future prices starting January 1, 2020. In the event that they predictions are way off, I will try to use more datapoints."
   ]
  },
  {
   "cell_type": "markdown",
   "metadata": {},
   "source": [
    "## Data Cleaning"
   ]
  },
  {
   "cell_type": "code",
   "execution_count": 1,
   "metadata": {},
   "outputs": [],
   "source": [
    "# Importing the necessary libraries\n",
    "\n",
    "import pandas as pd\n",
    "import matplotlib.pyplot as plt\n",
    "import pandas_datareader as pdr\n",
    "import numpy as np\n",
    "from datetime import date\n",
    "from alpha_vantage.timeseries import TimeSeries\n",
    "from dateutil.relativedelta import relativedelta\n",
    "import math\n",
    "import seaborn as sns\n",
    "%matplotlib inline"
   ]
  },
  {
   "cell_type": "code",
   "execution_count": 2,
   "metadata": {},
   "outputs": [],
   "source": [
    "from sklearn.metrics import mean_squared_error"
   ]
  },
  {
   "cell_type": "code",
   "execution_count": 3,
   "metadata": {},
   "outputs": [],
   "source": [
    "# Declaring the API Key\n",
    "\n",
    "#av_api_key = ''\n",
    "\n",
    "# I won't be using Twitter for now\n",
    "#twitter_api_key = 'jzu3E5CJbVcjziMmJhpMfwBjx'"
   ]
  },
  {
   "cell_type": "code",
   "execution_count": 4,
   "metadata": {},
   "outputs": [],
   "source": [
    "# Use the TimeSeries to declare the API key and output format to pandas\n",
    "\n",
    "ts = TimeSeries(key=av_api_key,output_format='pandas')"
   ]
  },
  {
   "cell_type": "code",
   "execution_count": 5,
   "metadata": {},
   "outputs": [
    {
     "data": {
      "text/html": [
       "<div>\n",
       "<style scoped>\n",
       "    .dataframe tbody tr th:only-of-type {\n",
       "        vertical-align: middle;\n",
       "    }\n",
       "\n",
       "    .dataframe tbody tr th {\n",
       "        vertical-align: top;\n",
       "    }\n",
       "\n",
       "    .dataframe thead th {\n",
       "        text-align: right;\n",
       "    }\n",
       "</style>\n",
       "<table border=\"1\" class=\"dataframe\">\n",
       "  <thead>\n",
       "    <tr style=\"text-align: right;\">\n",
       "      <th></th>\n",
       "      <th>1. open</th>\n",
       "      <th>2. high</th>\n",
       "      <th>3. low</th>\n",
       "      <th>4. close</th>\n",
       "      <th>5. volume</th>\n",
       "    </tr>\n",
       "  </thead>\n",
       "  <tbody>\n",
       "    <tr>\n",
       "      <th>count</th>\n",
       "      <td>5079.000000</td>\n",
       "      <td>5079.000000</td>\n",
       "      <td>5079.000000</td>\n",
       "      <td>5079.000000</td>\n",
       "      <td>5.079000e+03</td>\n",
       "    </tr>\n",
       "    <tr>\n",
       "      <th>mean</th>\n",
       "      <td>14172.168976</td>\n",
       "      <td>14253.443069</td>\n",
       "      <td>14086.807921</td>\n",
       "      <td>14174.295907</td>\n",
       "      <td>2.205767e+08</td>\n",
       "    </tr>\n",
       "    <tr>\n",
       "      <th>std</th>\n",
       "      <td>5353.687157</td>\n",
       "      <td>5364.652350</td>\n",
       "      <td>5339.998103</td>\n",
       "      <td>5353.403918</td>\n",
       "      <td>1.048882e+08</td>\n",
       "    </tr>\n",
       "    <tr>\n",
       "      <th>min</th>\n",
       "      <td>6547.009800</td>\n",
       "      <td>6709.609900</td>\n",
       "      <td>6469.950200</td>\n",
       "      <td>6547.049800</td>\n",
       "      <td>8.410000e+06</td>\n",
       "    </tr>\n",
       "    <tr>\n",
       "      <th>25%</th>\n",
       "      <td>10424.750000</td>\n",
       "      <td>10487.480000</td>\n",
       "      <td>10363.685100</td>\n",
       "      <td>10424.830050</td>\n",
       "      <td>1.451050e+08</td>\n",
       "    </tr>\n",
       "    <tr>\n",
       "      <th>50%</th>\n",
       "      <td>12147.379900</td>\n",
       "      <td>12234.669900</td>\n",
       "      <td>12076.929700</td>\n",
       "      <td>12151.410200</td>\n",
       "      <td>2.155100e+08</td>\n",
       "    </tr>\n",
       "    <tr>\n",
       "      <th>75%</th>\n",
       "      <td>17131.360350</td>\n",
       "      <td>17200.349600</td>\n",
       "      <td>17059.130850</td>\n",
       "      <td>17134.665050</td>\n",
       "      <td>2.736800e+08</td>\n",
       "    </tr>\n",
       "    <tr>\n",
       "      <th>max</th>\n",
       "      <td>29440.470700</td>\n",
       "      <td>29568.570300</td>\n",
       "      <td>29406.750000</td>\n",
       "      <td>29551.419900</td>\n",
       "      <td>2.190810e+09</td>\n",
       "    </tr>\n",
       "  </tbody>\n",
       "</table>\n",
       "</div>"
      ],
      "text/plain": [
       "            1. open       2. high        3. low      4. close     5. volume\n",
       "count   5079.000000   5079.000000   5079.000000   5079.000000  5.079000e+03\n",
       "mean   14172.168976  14253.443069  14086.807921  14174.295907  2.205767e+08\n",
       "std     5353.687157   5364.652350   5339.998103   5353.403918  1.048882e+08\n",
       "min     6547.009800   6709.609900   6469.950200   6547.049800  8.410000e+06\n",
       "25%    10424.750000  10487.480000  10363.685100  10424.830050  1.451050e+08\n",
       "50%    12147.379900  12234.669900  12076.929700  12151.410200  2.155100e+08\n",
       "75%    17131.360350  17200.349600  17059.130850  17134.665050  2.736800e+08\n",
       "max    29440.470700  29568.570300  29406.750000  29551.419900  2.190810e+09"
      ]
     },
     "execution_count": 5,
     "metadata": {},
     "output_type": "execute_result"
    }
   ],
   "source": [
    "# Pull the Dow Jones Industrial standard to check the data\n",
    "\n",
    "dji_data, metadata = ts.get_daily(symbol=\"DJI\", outputsize='full')\n",
    "dji_data.describe()"
   ]
  },
  {
   "cell_type": "code",
   "execution_count": 6,
   "metadata": {},
   "outputs": [],
   "source": [
    "# Check the data types\n",
    "\n",
    "#dji_data.dtypes"
   ]
  },
  {
   "cell_type": "code",
   "execution_count": 7,
   "metadata": {},
   "outputs": [],
   "source": [
    "# Check if any missing values in any of the columns\n",
    "\n",
    "#dji_data.isna().sum()"
   ]
  },
  {
   "cell_type": "code",
   "execution_count": 8,
   "metadata": {},
   "outputs": [],
   "source": [
    "#dji_data.nunique()"
   ]
  },
  {
   "cell_type": "code",
   "execution_count": 9,
   "metadata": {},
   "outputs": [],
   "source": [
    "# Declare the columns name to be used\n",
    "\n",
    "columns_name = ['Open', 'High', 'Low', 'Close', 'Volume']"
   ]
  },
  {
   "cell_type": "code",
   "execution_count": 10,
   "metadata": {},
   "outputs": [],
   "source": [
    "# Create a function to pull the data\n",
    "\n",
    "def get_data(company_symbol):\n",
    "    data, metadata = ts.get_daily(symbol = company_symbol, outputsize='full')\n",
    "    data.columns = columns_name\n",
    "    data.reset_index(level=0, inplace=True)\n",
    "    data['days_since'] = (data['date'] - min(data['date']) ).astype('timedelta64[D]')\n",
    "    return data"
   ]
  },
  {
   "cell_type": "markdown",
   "metadata": {},
   "source": [
    "## Data Storytelling"
   ]
  },
  {
   "cell_type": "markdown",
   "metadata": {},
   "source": [
    "### Disney"
   ]
  },
  {
   "cell_type": "markdown",
   "metadata": {},
   "source": [
    "Disney was founded in 1923 and will be celebring its 100th year anniversary in less than 4 years in 2023. It was started by Walt Disney and his brother Roy Disney.\n",
    "\n",
    "Disney has 2 public offerings during the course of 96 years. The first one is in 1940 and the second one is in 1957."
   ]
  },
  {
   "cell_type": "code",
   "execution_count": 11,
   "metadata": {},
   "outputs": [],
   "source": [
    "# Use the function to get the Disney data\n",
    "\n",
    "dis_data = get_data(\"DIS\")\n",
    "dis_data.to_csv(\"Disney \" + str(date.today()) + \".csv\")"
   ]
  },
  {
   "cell_type": "code",
   "execution_count": 12,
   "metadata": {},
   "outputs": [],
   "source": [
    "#dis_data = pd.read_csv(\"Disney 2019-12-17.csv\")"
   ]
  },
  {
   "cell_type": "code",
   "execution_count": 13,
   "metadata": {},
   "outputs": [
    {
     "data": {
      "text/html": [
       "<div>\n",
       "<style scoped>\n",
       "    .dataframe tbody tr th:only-of-type {\n",
       "        vertical-align: middle;\n",
       "    }\n",
       "\n",
       "    .dataframe tbody tr th {\n",
       "        vertical-align: top;\n",
       "    }\n",
       "\n",
       "    .dataframe thead th {\n",
       "        text-align: right;\n",
       "    }\n",
       "</style>\n",
       "<table border=\"1\" class=\"dataframe\">\n",
       "  <thead>\n",
       "    <tr style=\"text-align: right;\">\n",
       "      <th></th>\n",
       "      <th>date</th>\n",
       "      <th>Open</th>\n",
       "      <th>High</th>\n",
       "      <th>Low</th>\n",
       "      <th>Close</th>\n",
       "      <th>Volume</th>\n",
       "      <th>days_since</th>\n",
       "    </tr>\n",
       "  </thead>\n",
       "  <tbody>\n",
       "    <tr>\n",
       "      <th>0</th>\n",
       "      <td>2000-03-10</td>\n",
       "      <td>35.50</td>\n",
       "      <td>35.75</td>\n",
       "      <td>34.69</td>\n",
       "      <td>35.13</td>\n",
       "      <td>7064100.0</td>\n",
       "      <td>0.0</td>\n",
       "    </tr>\n",
       "    <tr>\n",
       "      <th>1</th>\n",
       "      <td>2000-03-13</td>\n",
       "      <td>33.13</td>\n",
       "      <td>35.50</td>\n",
       "      <td>33.00</td>\n",
       "      <td>34.94</td>\n",
       "      <td>5249000.0</td>\n",
       "      <td>3.0</td>\n",
       "    </tr>\n",
       "    <tr>\n",
       "      <th>2</th>\n",
       "      <td>2000-03-14</td>\n",
       "      <td>34.75</td>\n",
       "      <td>34.75</td>\n",
       "      <td>33.81</td>\n",
       "      <td>34.13</td>\n",
       "      <td>5591200.0</td>\n",
       "      <td>4.0</td>\n",
       "    </tr>\n",
       "    <tr>\n",
       "      <th>3</th>\n",
       "      <td>2000-03-15</td>\n",
       "      <td>34.00</td>\n",
       "      <td>34.94</td>\n",
       "      <td>33.63</td>\n",
       "      <td>34.81</td>\n",
       "      <td>6645000.0</td>\n",
       "      <td>5.0</td>\n",
       "    </tr>\n",
       "    <tr>\n",
       "      <th>4</th>\n",
       "      <td>2000-03-16</td>\n",
       "      <td>35.00</td>\n",
       "      <td>35.50</td>\n",
       "      <td>33.75</td>\n",
       "      <td>35.31</td>\n",
       "      <td>8337700.0</td>\n",
       "      <td>6.0</td>\n",
       "    </tr>\n",
       "  </tbody>\n",
       "</table>\n",
       "</div>"
      ],
      "text/plain": [
       "        date   Open   High    Low  Close     Volume  days_since\n",
       "0 2000-03-10  35.50  35.75  34.69  35.13  7064100.0         0.0\n",
       "1 2000-03-13  33.13  35.50  33.00  34.94  5249000.0         3.0\n",
       "2 2000-03-14  34.75  34.75  33.81  34.13  5591200.0         4.0\n",
       "3 2000-03-15  34.00  34.94  33.63  34.81  6645000.0         5.0\n",
       "4 2000-03-16  35.00  35.50  33.75  35.31  8337700.0         6.0"
      ]
     },
     "execution_count": 13,
     "metadata": {},
     "output_type": "execute_result"
    }
   ],
   "source": [
    "dis_data.head()"
   ]
  },
  {
   "cell_type": "code",
   "execution_count": 14,
   "metadata": {},
   "outputs": [],
   "source": [
    "#dis_data = dis_data.drop(columns='Unnamed: 0')\n",
    "#dis_data = dis_data.rename(columns={\"date_info\": \"date\"})"
   ]
  },
  {
   "cell_type": "code",
   "execution_count": 15,
   "metadata": {},
   "outputs": [
    {
     "data": {
      "text/html": [
       "<div>\n",
       "<style scoped>\n",
       "    .dataframe tbody tr th:only-of-type {\n",
       "        vertical-align: middle;\n",
       "    }\n",
       "\n",
       "    .dataframe tbody tr th {\n",
       "        vertical-align: top;\n",
       "    }\n",
       "\n",
       "    .dataframe thead th {\n",
       "        text-align: right;\n",
       "    }\n",
       "</style>\n",
       "<table border=\"1\" class=\"dataframe\">\n",
       "  <thead>\n",
       "    <tr style=\"text-align: right;\">\n",
       "      <th></th>\n",
       "      <th>Open</th>\n",
       "      <th>High</th>\n",
       "      <th>Low</th>\n",
       "      <th>Close</th>\n",
       "      <th>Volume</th>\n",
       "      <th>days_since</th>\n",
       "    </tr>\n",
       "  </thead>\n",
       "  <tbody>\n",
       "    <tr>\n",
       "      <th>Open</th>\n",
       "      <td>1.000000</td>\n",
       "      <td>0.999901</td>\n",
       "      <td>0.999887</td>\n",
       "      <td>0.999802</td>\n",
       "      <td>-0.110494</td>\n",
       "      <td>0.878859</td>\n",
       "    </tr>\n",
       "    <tr>\n",
       "      <th>High</th>\n",
       "      <td>0.999901</td>\n",
       "      <td>1.000000</td>\n",
       "      <td>0.999847</td>\n",
       "      <td>0.999903</td>\n",
       "      <td>-0.106954</td>\n",
       "      <td>0.878549</td>\n",
       "    </tr>\n",
       "    <tr>\n",
       "      <th>Low</th>\n",
       "      <td>0.999887</td>\n",
       "      <td>0.999847</td>\n",
       "      <td>1.000000</td>\n",
       "      <td>0.999898</td>\n",
       "      <td>-0.114690</td>\n",
       "      <td>0.879559</td>\n",
       "    </tr>\n",
       "    <tr>\n",
       "      <th>Close</th>\n",
       "      <td>0.999802</td>\n",
       "      <td>0.999903</td>\n",
       "      <td>0.999898</td>\n",
       "      <td>1.000000</td>\n",
       "      <td>-0.110592</td>\n",
       "      <td>0.879032</td>\n",
       "    </tr>\n",
       "    <tr>\n",
       "      <th>Volume</th>\n",
       "      <td>-0.110494</td>\n",
       "      <td>-0.106954</td>\n",
       "      <td>-0.114690</td>\n",
       "      <td>-0.110592</td>\n",
       "      <td>1.000000</td>\n",
       "      <td>0.040799</td>\n",
       "    </tr>\n",
       "    <tr>\n",
       "      <th>days_since</th>\n",
       "      <td>0.878859</td>\n",
       "      <td>0.878549</td>\n",
       "      <td>0.879559</td>\n",
       "      <td>0.879032</td>\n",
       "      <td>0.040799</td>\n",
       "      <td>1.000000</td>\n",
       "    </tr>\n",
       "  </tbody>\n",
       "</table>\n",
       "</div>"
      ],
      "text/plain": [
       "                Open      High       Low     Close    Volume  days_since\n",
       "Open        1.000000  0.999901  0.999887  0.999802 -0.110494    0.878859\n",
       "High        0.999901  1.000000  0.999847  0.999903 -0.106954    0.878549\n",
       "Low         0.999887  0.999847  1.000000  0.999898 -0.114690    0.879559\n",
       "Close       0.999802  0.999903  0.999898  1.000000 -0.110592    0.879032\n",
       "Volume     -0.110494 -0.106954 -0.114690 -0.110592  1.000000    0.040799\n",
       "days_since  0.878859  0.878549  0.879559  0.879032  0.040799    1.000000"
      ]
     },
     "execution_count": 15,
     "metadata": {},
     "output_type": "execute_result"
    }
   ],
   "source": [
    "pearsoncorr = dis_data.corr(method='pearson')\n",
    "pearsoncorr"
   ]
  },
  {
   "cell_type": "code",
   "execution_count": 16,
   "metadata": {},
   "outputs": [
    {
     "data": {
      "text/html": [
       "<div>\n",
       "<style scoped>\n",
       "    .dataframe tbody tr th:only-of-type {\n",
       "        vertical-align: middle;\n",
       "    }\n",
       "\n",
       "    .dataframe tbody tr th {\n",
       "        vertical-align: top;\n",
       "    }\n",
       "\n",
       "    .dataframe thead th {\n",
       "        text-align: right;\n",
       "    }\n",
       "</style>\n",
       "<table border=\"1\" class=\"dataframe\">\n",
       "  <thead>\n",
       "    <tr style=\"text-align: right;\">\n",
       "      <th></th>\n",
       "      <th>Open</th>\n",
       "      <th>High</th>\n",
       "      <th>Low</th>\n",
       "      <th>Close</th>\n",
       "      <th>Volume</th>\n",
       "      <th>days_since</th>\n",
       "    </tr>\n",
       "  </thead>\n",
       "  <tbody>\n",
       "    <tr>\n",
       "      <th>count</th>\n",
       "      <td>5032.000000</td>\n",
       "      <td>5032.000000</td>\n",
       "      <td>5032.000000</td>\n",
       "      <td>5032.000000</td>\n",
       "      <td>5.032000e+03</td>\n",
       "      <td>5032.000000</td>\n",
       "    </tr>\n",
       "    <tr>\n",
       "      <th>mean</th>\n",
       "      <td>55.413502</td>\n",
       "      <td>55.901790</td>\n",
       "      <td>54.890829</td>\n",
       "      <td>55.414874</td>\n",
       "      <td>9.242871e+06</td>\n",
       "      <td>3654.177266</td>\n",
       "    </tr>\n",
       "    <tr>\n",
       "      <th>std</th>\n",
       "      <td>36.928983</td>\n",
       "      <td>37.116741</td>\n",
       "      <td>36.678772</td>\n",
       "      <td>36.896168</td>\n",
       "      <td>5.538055e+06</td>\n",
       "      <td>2108.442256</td>\n",
       "    </tr>\n",
       "    <tr>\n",
       "      <th>min</th>\n",
       "      <td>13.800000</td>\n",
       "      <td>14.100000</td>\n",
       "      <td>13.480000</td>\n",
       "      <td>13.770000</td>\n",
       "      <td>1.487900e+06</td>\n",
       "      <td>0.000000</td>\n",
       "    </tr>\n",
       "    <tr>\n",
       "      <th>25%</th>\n",
       "      <td>27.050000</td>\n",
       "      <td>27.435000</td>\n",
       "      <td>26.767500</td>\n",
       "      <td>27.047500</td>\n",
       "      <td>6.069160e+06</td>\n",
       "      <td>1830.750000</td>\n",
       "    </tr>\n",
       "    <tr>\n",
       "      <th>50%</th>\n",
       "      <td>35.195000</td>\n",
       "      <td>35.565000</td>\n",
       "      <td>34.900000</td>\n",
       "      <td>35.220000</td>\n",
       "      <td>7.920300e+06</td>\n",
       "      <td>3655.500000</td>\n",
       "    </tr>\n",
       "    <tr>\n",
       "      <th>75%</th>\n",
       "      <td>93.625000</td>\n",
       "      <td>94.232500</td>\n",
       "      <td>92.710000</td>\n",
       "      <td>93.752500</td>\n",
       "      <td>1.079474e+07</td>\n",
       "      <td>5480.250000</td>\n",
       "    </tr>\n",
       "    <tr>\n",
       "      <th>max</th>\n",
       "      <td>152.940000</td>\n",
       "      <td>153.410000</td>\n",
       "      <td>151.150000</td>\n",
       "      <td>151.640000</td>\n",
       "      <td>1.166250e+08</td>\n",
       "      <td>7306.000000</td>\n",
       "    </tr>\n",
       "  </tbody>\n",
       "</table>\n",
       "</div>"
      ],
      "text/plain": [
       "              Open         High          Low        Close        Volume  \\\n",
       "count  5032.000000  5032.000000  5032.000000  5032.000000  5.032000e+03   \n",
       "mean     55.413502    55.901790    54.890829    55.414874  9.242871e+06   \n",
       "std      36.928983    37.116741    36.678772    36.896168  5.538055e+06   \n",
       "min      13.800000    14.100000    13.480000    13.770000  1.487900e+06   \n",
       "25%      27.050000    27.435000    26.767500    27.047500  6.069160e+06   \n",
       "50%      35.195000    35.565000    34.900000    35.220000  7.920300e+06   \n",
       "75%      93.625000    94.232500    92.710000    93.752500  1.079474e+07   \n",
       "max     152.940000   153.410000   151.150000   151.640000  1.166250e+08   \n",
       "\n",
       "        days_since  \n",
       "count  5032.000000  \n",
       "mean   3654.177266  \n",
       "std    2108.442256  \n",
       "min       0.000000  \n",
       "25%    1830.750000  \n",
       "50%    3655.500000  \n",
       "75%    5480.250000  \n",
       "max    7306.000000  "
      ]
     },
     "execution_count": 16,
     "metadata": {},
     "output_type": "execute_result"
    }
   ],
   "source": [
    "dis_data.describe()"
   ]
  },
  {
   "cell_type": "code",
   "execution_count": 17,
   "metadata": {},
   "outputs": [],
   "source": [
    "slope, intercept = np.polyfit(dis_data['days_since'], dis_data['Close'],1)"
   ]
  },
  {
   "cell_type": "code",
   "execution_count": 18,
   "metadata": {
    "scrolled": true
   },
   "outputs": [],
   "source": [
    "y = slope * dis_data['days_since'] + intercept"
   ]
  },
  {
   "cell_type": "code",
   "execution_count": 19,
   "metadata": {},
   "outputs": [
    {
     "data": {
      "text/html": [
       "<div>\n",
       "<style scoped>\n",
       "    .dataframe tbody tr th:only-of-type {\n",
       "        vertical-align: middle;\n",
       "    }\n",
       "\n",
       "    .dataframe tbody tr th {\n",
       "        vertical-align: top;\n",
       "    }\n",
       "\n",
       "    .dataframe thead th {\n",
       "        text-align: right;\n",
       "    }\n",
       "</style>\n",
       "<table border=\"1\" class=\"dataframe\">\n",
       "  <thead>\n",
       "    <tr style=\"text-align: right;\">\n",
       "      <th></th>\n",
       "      <th>Open</th>\n",
       "      <th>High</th>\n",
       "      <th>Low</th>\n",
       "      <th>Close</th>\n",
       "      <th>Volume</th>\n",
       "      <th>days_since</th>\n",
       "    </tr>\n",
       "  </thead>\n",
       "  <tbody>\n",
       "    <tr>\n",
       "      <th>count</th>\n",
       "      <td>5032.000000</td>\n",
       "      <td>5032.000000</td>\n",
       "      <td>5032.000000</td>\n",
       "      <td>5032.000000</td>\n",
       "      <td>5.032000e+03</td>\n",
       "      <td>5032.000000</td>\n",
       "    </tr>\n",
       "    <tr>\n",
       "      <th>mean</th>\n",
       "      <td>55.413502</td>\n",
       "      <td>55.901790</td>\n",
       "      <td>54.890829</td>\n",
       "      <td>55.414874</td>\n",
       "      <td>9.242871e+06</td>\n",
       "      <td>3654.177266</td>\n",
       "    </tr>\n",
       "    <tr>\n",
       "      <th>std</th>\n",
       "      <td>36.928983</td>\n",
       "      <td>37.116741</td>\n",
       "      <td>36.678772</td>\n",
       "      <td>36.896168</td>\n",
       "      <td>5.538055e+06</td>\n",
       "      <td>2108.442256</td>\n",
       "    </tr>\n",
       "    <tr>\n",
       "      <th>min</th>\n",
       "      <td>13.800000</td>\n",
       "      <td>14.100000</td>\n",
       "      <td>13.480000</td>\n",
       "      <td>13.770000</td>\n",
       "      <td>1.487900e+06</td>\n",
       "      <td>0.000000</td>\n",
       "    </tr>\n",
       "    <tr>\n",
       "      <th>25%</th>\n",
       "      <td>27.050000</td>\n",
       "      <td>27.435000</td>\n",
       "      <td>26.767500</td>\n",
       "      <td>27.047500</td>\n",
       "      <td>6.069160e+06</td>\n",
       "      <td>1830.750000</td>\n",
       "    </tr>\n",
       "    <tr>\n",
       "      <th>50%</th>\n",
       "      <td>35.195000</td>\n",
       "      <td>35.565000</td>\n",
       "      <td>34.900000</td>\n",
       "      <td>35.220000</td>\n",
       "      <td>7.920300e+06</td>\n",
       "      <td>3655.500000</td>\n",
       "    </tr>\n",
       "    <tr>\n",
       "      <th>75%</th>\n",
       "      <td>93.625000</td>\n",
       "      <td>94.232500</td>\n",
       "      <td>92.710000</td>\n",
       "      <td>93.752500</td>\n",
       "      <td>1.079474e+07</td>\n",
       "      <td>5480.250000</td>\n",
       "    </tr>\n",
       "    <tr>\n",
       "      <th>max</th>\n",
       "      <td>152.940000</td>\n",
       "      <td>153.410000</td>\n",
       "      <td>151.150000</td>\n",
       "      <td>151.640000</td>\n",
       "      <td>1.166250e+08</td>\n",
       "      <td>7306.000000</td>\n",
       "    </tr>\n",
       "  </tbody>\n",
       "</table>\n",
       "</div>"
      ],
      "text/plain": [
       "              Open         High          Low        Close        Volume  \\\n",
       "count  5032.000000  5032.000000  5032.000000  5032.000000  5.032000e+03   \n",
       "mean     55.413502    55.901790    54.890829    55.414874  9.242871e+06   \n",
       "std      36.928983    37.116741    36.678772    36.896168  5.538055e+06   \n",
       "min      13.800000    14.100000    13.480000    13.770000  1.487900e+06   \n",
       "25%      27.050000    27.435000    26.767500    27.047500  6.069160e+06   \n",
       "50%      35.195000    35.565000    34.900000    35.220000  7.920300e+06   \n",
       "75%      93.625000    94.232500    92.710000    93.752500  1.079474e+07   \n",
       "max     152.940000   153.410000   151.150000   151.640000  1.166250e+08   \n",
       "\n",
       "        days_since  \n",
       "count  5032.000000  \n",
       "mean   3654.177266  \n",
       "std    2108.442256  \n",
       "min       0.000000  \n",
       "25%    1830.750000  \n",
       "50%    3655.500000  \n",
       "75%    5480.250000  \n",
       "max    7306.000000  "
      ]
     },
     "execution_count": 19,
     "metadata": {},
     "output_type": "execute_result"
    }
   ],
   "source": [
    "dis_data.describe()"
   ]
  },
  {
   "cell_type": "code",
   "execution_count": 20,
   "metadata": {},
   "outputs": [
    {
     "name": "stderr",
     "output_type": "stream",
     "text": [
      "C:\\Users\\vince\\Anaconda3\\lib\\site-packages\\pandas\\plotting\\_converter.py:129: FutureWarning: Using an implicitly registered datetime converter for a matplotlib plotting method. The converter was registered by pandas on import. Future versions of pandas will require you to explicitly register matplotlib converters.\n",
      "\n",
      "To register the converters:\n",
      "\t>>> from pandas.plotting import register_matplotlib_converters\n",
      "\t>>> register_matplotlib_converters()\n",
      "  warnings.warn(msg, FutureWarning)\n"
     ]
    },
    {
     "data": {
      "text/plain": [
       "<matplotlib.legend.Legend at 0x24ceed53860>"
      ]
     },
     "execution_count": 20,
     "metadata": {},
     "output_type": "execute_result"
    },
    {
     "data": {
      "image/png": "[encoded data removed]",
      "text/plain": [
       "<Figure size 432x288 with 1 Axes>"
      ]
     },
     "metadata": {},
     "output_type": "display_data"
    }
   ],
   "source": [
    "# Plot the 'Close' column to check if there is any irregularities in the data\n",
    "\n",
    "plt.style.use('seaborn-whitegrid')\n",
    "plt.plot(dis_data['date'], dis_data['Close'], 'b', label='Actual Closing Price')\n",
    "plt.plot(dis_data['date'], y, 'r', label='Regression')\n",
    "plt.xlabel(\"Year\")\n",
    "plt.ylabel(\"Closing Price\")\n",
    "plt.title(\"Disney (DIS)\")\n",
    "plt.legend()"
   ]
  },
  {
   "cell_type": "markdown",
   "metadata": {},
   "source": [
    "From the graph above, we can see that if we do linear regression from 2000 to 2020 (red line), it has high Residual Sum of Squares meaning that the model does not fit well with the actual data."
   ]
  },
  {
   "cell_type": "code",
   "execution_count": 21,
   "metadata": {},
   "outputs": [
    {
     "data": {
      "text/plain": [
       "17.588981852356106"
      ]
     },
     "execution_count": 21,
     "metadata": {},
     "output_type": "execute_result"
    }
   ],
   "source": [
    "# Calculating the RMSE\n",
    "\n",
    "rmse = math.sqrt(mean_squared_error(dis_data['Close'], y))\n",
    "rmse"
   ]
  },
  {
   "cell_type": "markdown",
   "metadata": {},
   "source": [
    "We can try to divide the data into 3 periods of:\n",
    "\n",
    "1. 2000 - 2012 (Stable)\n",
    "2. 2012 - 2016 (High Growth)\n",
    "3. 2016 - 2020 (Growth)\n",
    "\n",
    "to see if we can have a better model"
   ]
  },
  {
   "cell_type": "code",
   "execution_count": 22,
   "metadata": {},
   "outputs": [],
   "source": [
    "def new_df(data, start_date, end_date):\n",
    "    mask = (data['date'] > start_date) & (data['date'] <= end_date)\n",
    "    data = data.loc[mask]\n",
    "    return data"
   ]
  },
  {
   "cell_type": "code",
   "execution_count": 23,
   "metadata": {},
   "outputs": [],
   "source": [
    "stable = new_df(dis_data, '2000-1-1', '2013-1-1')\n",
    "slope, intercept = np.polyfit(stable['days_since'], stable['Close'],1)\n",
    "y_stable = slope * dis_data['days_since'] + intercept"
   ]
  },
  {
   "cell_type": "code",
   "execution_count": 24,
   "metadata": {},
   "outputs": [
    {
     "data": {
      "image/png": "[encoded data removed]",
      "text/plain": [
       "<Figure size 432x288 with 1 Axes>"
      ]
     },
     "metadata": {},
     "output_type": "display_data"
    }
   ],
   "source": [
    "_ = plt.style.use('seaborn-whitegrid')\n",
    "_ = plt.plot(dis_data['date'], dis_data['Close'], 'b', label='Actual')\n",
    "_ = plt.plot(dis_data['date'], y_stable, 'r', label='Regression Line')\n",
    "_ = plt.xlabel(\"Year\")\n",
    "_ = plt.ylabel(\"Closing Price\")\n",
    "_ = plt.title(\"Disney (DIS)\")\n",
    "_ = plt.legend()"
   ]
  },
  {
   "cell_type": "code",
   "execution_count": 25,
   "metadata": {},
   "outputs": [],
   "source": [
    "dis_data['Delta_Open_Close'] = dis_data.apply(lambda row: (row.Close - row.Open) / row.Open, axis=1)\n",
    "dis_data['Delta_High_Low'] = dis_data.apply(lambda row: row.High - row.Low, axis=1)"
   ]
  },
  {
   "cell_type": "code",
   "execution_count": 26,
   "metadata": {},
   "outputs": [],
   "source": [
    "# Find the starting date, ending date and number of days of data\n",
    "\n",
    "min_date = min(dis_data['date'])\n",
    "max_date = max(dis_data['date'])\n",
    "count_date = len(dis_data['date'])\n",
    "no_years = relativedelta(max_date, min_date).years"
   ]
  },
  {
   "cell_type": "code",
   "execution_count": 27,
   "metadata": {},
   "outputs": [
    {
     "name": "stdout",
     "output_type": "stream",
     "text": [
      "The earliest date for Disney data is : Mar 10 2000\n",
      "The latest date for Disney data is : Mar 11 2020\n",
      "Number of days of transactions : 5032 days in 20 years\n"
     ]
    }
   ],
   "source": [
    "# Print the results\n",
    "\n",
    "print(\"The earliest date for Disney data is : \" + str(min_date.strftime(\"%b %d %Y\")))\n",
    "print(\"The latest date for Disney data is : \" + str(max_date.strftime(\"%b %d %Y\")))\n",
    "print(\"Number of days of transactions : \" + str(count_date) + \" days in \" + str(no_years) + \" years\")"
   ]
  },
  {
   "cell_type": "code",
   "execution_count": 28,
   "metadata": {},
   "outputs": [
    {
     "data": {
      "text/html": [
       "<div>\n",
       "<style scoped>\n",
       "    .dataframe tbody tr th:only-of-type {\n",
       "        vertical-align: middle;\n",
       "    }\n",
       "\n",
       "    .dataframe tbody tr th {\n",
       "        vertical-align: top;\n",
       "    }\n",
       "\n",
       "    .dataframe thead th {\n",
       "        text-align: right;\n",
       "    }\n",
       "</style>\n",
       "<table border=\"1\" class=\"dataframe\">\n",
       "  <thead>\n",
       "    <tr style=\"text-align: right;\">\n",
       "      <th></th>\n",
       "      <th>Open</th>\n",
       "      <th>High</th>\n",
       "      <th>Low</th>\n",
       "      <th>Close</th>\n",
       "      <th>Volume</th>\n",
       "      <th>days_since</th>\n",
       "      <th>Delta_Open_Close</th>\n",
       "      <th>Delta_High_Low</th>\n",
       "    </tr>\n",
       "  </thead>\n",
       "  <tbody>\n",
       "    <tr>\n",
       "      <th>count</th>\n",
       "      <td>5032.000000</td>\n",
       "      <td>5032.000000</td>\n",
       "      <td>5032.000000</td>\n",
       "      <td>5032.000000</td>\n",
       "      <td>5.032000e+03</td>\n",
       "      <td>5032.000000</td>\n",
       "      <td>5032.000000</td>\n",
       "      <td>5032.000000</td>\n",
       "    </tr>\n",
       "    <tr>\n",
       "      <th>mean</th>\n",
       "      <td>55.413502</td>\n",
       "      <td>55.901790</td>\n",
       "      <td>54.890829</td>\n",
       "      <td>55.414874</td>\n",
       "      <td>9.242871e+06</td>\n",
       "      <td>3654.177266</td>\n",
       "      <td>0.000455</td>\n",
       "      <td>1.010961</td>\n",
       "    </tr>\n",
       "    <tr>\n",
       "      <th>std</th>\n",
       "      <td>36.928983</td>\n",
       "      <td>37.116741</td>\n",
       "      <td>36.678772</td>\n",
       "      <td>36.896168</td>\n",
       "      <td>5.538055e+06</td>\n",
       "      <td>2108.442256</td>\n",
       "      <td>0.015097</td>\n",
       "      <td>0.780799</td>\n",
       "    </tr>\n",
       "    <tr>\n",
       "      <th>min</th>\n",
       "      <td>13.800000</td>\n",
       "      <td>14.100000</td>\n",
       "      <td>13.480000</td>\n",
       "      <td>13.770000</td>\n",
       "      <td>1.487900e+06</td>\n",
       "      <td>0.000000</td>\n",
       "      <td>-0.081545</td>\n",
       "      <td>0.000000</td>\n",
       "    </tr>\n",
       "    <tr>\n",
       "      <th>25%</th>\n",
       "      <td>27.050000</td>\n",
       "      <td>27.435000</td>\n",
       "      <td>26.767500</td>\n",
       "      <td>27.047500</td>\n",
       "      <td>6.069160e+06</td>\n",
       "      <td>1830.750000</td>\n",
       "      <td>-0.007058</td>\n",
       "      <td>0.520000</td>\n",
       "    </tr>\n",
       "    <tr>\n",
       "      <th>50%</th>\n",
       "      <td>35.195000</td>\n",
       "      <td>35.565000</td>\n",
       "      <td>34.900000</td>\n",
       "      <td>35.220000</td>\n",
       "      <td>7.920300e+06</td>\n",
       "      <td>3655.500000</td>\n",
       "      <td>0.000000</td>\n",
       "      <td>0.790000</td>\n",
       "    </tr>\n",
       "    <tr>\n",
       "      <th>75%</th>\n",
       "      <td>93.625000</td>\n",
       "      <td>94.232500</td>\n",
       "      <td>92.710000</td>\n",
       "      <td>93.752500</td>\n",
       "      <td>1.079474e+07</td>\n",
       "      <td>5480.250000</td>\n",
       "      <td>0.007716</td>\n",
       "      <td>1.250000</td>\n",
       "    </tr>\n",
       "    <tr>\n",
       "      <th>max</th>\n",
       "      <td>152.940000</td>\n",
       "      <td>153.410000</td>\n",
       "      <td>151.150000</td>\n",
       "      <td>151.640000</td>\n",
       "      <td>1.166250e+08</td>\n",
       "      <td>7306.000000</td>\n",
       "      <td>0.126951</td>\n",
       "      <td>13.080000</td>\n",
       "    </tr>\n",
       "  </tbody>\n",
       "</table>\n",
       "</div>"
      ],
      "text/plain": [
       "              Open         High          Low        Close        Volume  \\\n",
       "count  5032.000000  5032.000000  5032.000000  5032.000000  5.032000e+03   \n",
       "mean     55.413502    55.901790    54.890829    55.414874  9.242871e+06   \n",
       "std      36.928983    37.116741    36.678772    36.896168  5.538055e+06   \n",
       "min      13.800000    14.100000    13.480000    13.770000  1.487900e+06   \n",
       "25%      27.050000    27.435000    26.767500    27.047500  6.069160e+06   \n",
       "50%      35.195000    35.565000    34.900000    35.220000  7.920300e+06   \n",
       "75%      93.625000    94.232500    92.710000    93.752500  1.079474e+07   \n",
       "max     152.940000   153.410000   151.150000   151.640000  1.166250e+08   \n",
       "\n",
       "        days_since  Delta_Open_Close  Delta_High_Low  \n",
       "count  5032.000000       5032.000000     5032.000000  \n",
       "mean   3654.177266          0.000455        1.010961  \n",
       "std    2108.442256          0.015097        0.780799  \n",
       "min       0.000000         -0.081545        0.000000  \n",
       "25%    1830.750000         -0.007058        0.520000  \n",
       "50%    3655.500000          0.000000        0.790000  \n",
       "75%    5480.250000          0.007716        1.250000  \n",
       "max    7306.000000          0.126951       13.080000  "
      ]
     },
     "execution_count": 28,
     "metadata": {},
     "output_type": "execute_result"
    }
   ],
   "source": [
    "# Check the top stats measure\n",
    "\n",
    "dis_data.describe()"
   ]
  },
  {
   "cell_type": "code",
   "execution_count": 29,
   "metadata": {},
   "outputs": [
    {
     "data": {
      "text/plain": [
       "date                0\n",
       "Open                0\n",
       "High                0\n",
       "Low                 0\n",
       "Close               0\n",
       "Volume              0\n",
       "days_since          0\n",
       "Delta_Open_Close    0\n",
       "Delta_High_Low      0\n",
       "dtype: int64"
      ]
     },
     "execution_count": 29,
     "metadata": {},
     "output_type": "execute_result"
    }
   ],
   "source": [
    "# Check for any missing data\n",
    "\n",
    "dis_data.isna().sum()"
   ]
  },
  {
   "cell_type": "code",
   "execution_count": 30,
   "metadata": {},
   "outputs": [],
   "source": [
    "# Find the high, low\n",
    "\n",
    "min_close = min(dis_data.Close)\n",
    "max_close = max(dis_data.Close)\n",
    "increase = (max_close - min_close) / min_close"
   ]
  },
  {
   "cell_type": "code",
   "execution_count": 31,
   "metadata": {},
   "outputs": [
    {
     "name": "stdout",
     "output_type": "stream",
     "text": [
      "The lowest closing price for Disney stock is : $13.77\n",
      "The highest closing price for Disney stock is : $151.64\n",
      "If you invest $100 in Disney stock in Mar 10 2000, it will grow to $1001.23\n"
     ]
    }
   ],
   "source": [
    "# Print the results\n",
    "\n",
    "print(\"The lowest closing price for Disney stock is : $\" + str(min_close))\n",
    "print(\"The highest closing price for Disney stock is : $\" + str(max_close))\n",
    "print(\"If you invest $100 in Disney stock in \" + str(min_date.strftime(\"%b %d %Y\")) + \", it will grow to $\" + str(round(100*increase,2)))"
   ]
  },
  {
   "cell_type": "markdown",
   "metadata": {},
   "source": [
    "#### Open vs Close"
   ]
  },
  {
   "cell_type": "code",
   "execution_count": 32,
   "metadata": {},
   "outputs": [
    {
     "name": "stdout",
     "output_type": "stream",
     "text": [
      "Biggest Change in One Day for uptick is 12.7% and for downtick is -16.23%\n"
     ]
    }
   ],
   "source": [
    "print(\"Biggest Change in One Day for uptick is \" + str(max(round(dis_data['Delta_Open_Close']*100, 2))) \n",
    "      + \"% and for downtick is -\" + str(min(round(dis_data['Delta_Open_Close']*199, 2)) * -1) + \"%\")"
   ]
  },
  {
   "cell_type": "code",
   "execution_count": 33,
   "metadata": {},
   "outputs": [
    {
     "data": {
      "image/png": "[encoded data removed]",
      "text/plain": [
       "<Figure size 432x288 with 1 Axes>"
      ]
     },
     "metadata": {},
     "output_type": "display_data"
    }
   ],
   "source": [
    "_ = plt.hist(dis_data['Delta_Open_Close'], bins = 50, density=True)\n",
    "_ = plt.xlabel(\"% Percent Change\")\n",
    "_ = plt.ylabel(\"Frequency\")\n",
    "_ = plt.title(\"The distribution in one trading day\")"
   ]
  },
  {
   "cell_type": "code",
   "execution_count": 34,
   "metadata": {},
   "outputs": [],
   "source": [
    "mu = np.mean(dis_data['Delta_Open_Close'])\n",
    "sigma = np.std(dis_data['Delta_Open_Close'])"
   ]
  },
  {
   "cell_type": "code",
   "execution_count": 35,
   "metadata": {},
   "outputs": [
    {
     "name": "stdout",
     "output_type": "stream",
     "text": [
      "From Opening price, Disney stock has an average to change 0.05% with standard deviation of 1.51% to Closing price\n"
     ]
    }
   ],
   "source": [
    "print(\"From Opening price, Disney stock has an average to change \" + str(round(mu*100,2)) + \"% with standard deviation of \" \n",
    "      + str(round(sigma*100, 2)) + \"% to Closing price\")"
   ]
  },
  {
   "cell_type": "markdown",
   "metadata": {},
   "source": [
    "#### Trading Days"
   ]
  },
  {
   "cell_type": "code",
   "execution_count": 36,
   "metadata": {},
   "outputs": [],
   "source": [
    "def next_trad_day_delta(data):\n",
    "    delta_change = []\n",
    "    for i in range(len(data) - 1):\n",
    "        change = (data[i+1] - data[i]) / data[i]\n",
    "        delta_change.append(change)\n",
    "    \n",
    "    return delta_change"
   ]
  },
  {
   "cell_type": "code",
   "execution_count": 37,
   "metadata": {},
   "outputs": [],
   "source": [
    "dis_delta_change = next_trad_day_delta(dis_data.Close)"
   ]
  },
  {
   "cell_type": "code",
   "execution_count": 38,
   "metadata": {},
   "outputs": [
    {
     "name": "stdout",
     "output_type": "stream",
     "text": [
      "Biggest uptick change in between two trading days is 15.97% and for downtick is -18.36%\n"
     ]
    }
   ],
   "source": [
    "print(\"Biggest uptick change in between two trading days is \" + str(round(max(dis_delta_change)*100, 2)) \n",
    "      + \"% and for downtick is -\" + str(round(min(dis_delta_change)*100, 2) * -1) + \"%\")"
   ]
  },
  {
   "cell_type": "code",
   "execution_count": 39,
   "metadata": {},
   "outputs": [],
   "source": [
    "mu_delta = np.mean(dis_delta_change)\n",
    "sigma_delta = np.std(dis_delta_change)"
   ]
  },
  {
   "cell_type": "code",
   "execution_count": 40,
   "metadata": {},
   "outputs": [
    {
     "name": "stdout",
     "output_type": "stream",
     "text": [
      "In average, Disney stock has an average to increase 0.04% with standard deviation of 1.84% to the previous day\n"
     ]
    }
   ],
   "source": [
    "print(\"In average, Disney stock has an average to increase \" + str(round(mu_delta*100,2)) + \"% with standard deviation of \" \n",
    "      + str(round(sigma_delta*100, 2)) + \"% to the previous day\")"
   ]
  },
  {
   "cell_type": "code",
   "execution_count": 41,
   "metadata": {},
   "outputs": [
    {
     "data": {
      "image/png": "[encoded data removed]",
      "text/plain": [
       "<Figure size 432x288 with 1 Axes>"
      ]
     },
     "metadata": {},
     "output_type": "display_data"
    }
   ],
   "source": [
    "_ = plt.hist(dis_delta_change, bins = 100)\n",
    "_ = plt.xlabel(\"& Change\")\n",
    "_ = plt.ylabel(\"Frequency\")\n",
    "_ = plt.title(\"The distribution of changes between 2 consecutive days\")"
   ]
  },
  {
   "cell_type": "markdown",
   "metadata": {},
   "source": [
    "#### By period"
   ]
  },
  {
   "cell_type": "code",
   "execution_count": 42,
   "metadata": {},
   "outputs": [],
   "source": [
    "def find_change(data, delta):\n",
    "    biggest_change = 0\n",
    "    smallest_change = max(data) - min(data)\n",
    "    \n",
    "    for i in range(len(data) - delta):\n",
    "        change = data[i+delta] - data[i]\n",
    "        if change > biggest_change:\n",
    "            biggest_change = change\n",
    "        elif change < smallest_change:\n",
    "            smallest_change = change\n",
    "        else: next\n",
    "            \n",
    "    return np.array([delta, smallest_change, biggest_change])"
   ]
  },
  {
   "cell_type": "code",
   "execution_count": 43,
   "metadata": {},
   "outputs": [],
   "source": [
    "def create_summary(data):\n",
    "    \n",
    "    summary = pd.DataFrame(columns = ['Days Delta', 'Biggest Drop', 'Biggest Increase'])\n",
    "    \n",
    "    for i in [1, 5, 10, 20, 253]:\n",
    "        array_ = find_change(data, i)\n",
    "        summary.loc[len(summary)] = array_\n",
    "        \n",
    "    return summary"
   ]
  },
  {
   "cell_type": "code",
   "execution_count": 44,
   "metadata": {},
   "outputs": [
    {
     "data": {
      "text/html": [
       "<div>\n",
       "<style scoped>\n",
       "    .dataframe tbody tr th:only-of-type {\n",
       "        vertical-align: middle;\n",
       "    }\n",
       "\n",
       "    .dataframe tbody tr th {\n",
       "        vertical-align: top;\n",
       "    }\n",
       "\n",
       "    .dataframe thead th {\n",
       "        text-align: right;\n",
       "    }\n",
       "</style>\n",
       "<table border=\"1\" class=\"dataframe\">\n",
       "  <thead>\n",
       "    <tr style=\"text-align: right;\">\n",
       "      <th></th>\n",
       "      <th>Days Delta</th>\n",
       "      <th>Biggest Drop</th>\n",
       "      <th>Biggest Increase</th>\n",
       "    </tr>\n",
       "  </thead>\n",
       "  <tbody>\n",
       "    <tr>\n",
       "      <th>0</th>\n",
       "      <td>1.0</td>\n",
       "      <td>-11.16</td>\n",
       "      <td>13.46</td>\n",
       "    </tr>\n",
       "    <tr>\n",
       "      <th>1</th>\n",
       "      <td>5.0</td>\n",
       "      <td>-22.33</td>\n",
       "      <td>17.45</td>\n",
       "    </tr>\n",
       "    <tr>\n",
       "      <th>2</th>\n",
       "      <td>10.0</td>\n",
       "      <td>-28.66</td>\n",
       "      <td>23.32</td>\n",
       "    </tr>\n",
       "    <tr>\n",
       "      <th>3</th>\n",
       "      <td>20.0</td>\n",
       "      <td>-36.67</td>\n",
       "      <td>29.21</td>\n",
       "    </tr>\n",
       "    <tr>\n",
       "      <th>4</th>\n",
       "      <td>253.0</td>\n",
       "      <td>-26.53</td>\n",
       "      <td>45.35</td>\n",
       "    </tr>\n",
       "  </tbody>\n",
       "</table>\n",
       "</div>"
      ],
      "text/plain": [
       "   Days Delta  Biggest Drop  Biggest Increase\n",
       "0         1.0        -11.16             13.46\n",
       "1         5.0        -22.33             17.45\n",
       "2        10.0        -28.66             23.32\n",
       "3        20.0        -36.67             29.21\n",
       "4       253.0        -26.53             45.35"
      ]
     },
     "execution_count": 44,
     "metadata": {},
     "output_type": "execute_result"
    }
   ],
   "source": [
    "disney_summary = create_summary(dis_data.Close)\n",
    "disney_summary"
   ]
  },
  {
   "cell_type": "code",
   "execution_count": 45,
   "metadata": {},
   "outputs": [
    {
     "data": {
      "text/html": [
       "<div>\n",
       "<style scoped>\n",
       "    .dataframe tbody tr th:only-of-type {\n",
       "        vertical-align: middle;\n",
       "    }\n",
       "\n",
       "    .dataframe tbody tr th {\n",
       "        vertical-align: top;\n",
       "    }\n",
       "\n",
       "    .dataframe thead th {\n",
       "        text-align: right;\n",
       "    }\n",
       "</style>\n",
       "<table border=\"1\" class=\"dataframe\">\n",
       "  <thead>\n",
       "    <tr style=\"text-align: right;\">\n",
       "      <th></th>\n",
       "      <th>Biggest Drop</th>\n",
       "      <th>Biggest Increase</th>\n",
       "    </tr>\n",
       "    <tr>\n",
       "      <th>Days Delta</th>\n",
       "      <th></th>\n",
       "      <th></th>\n",
       "    </tr>\n",
       "  </thead>\n",
       "  <tbody>\n",
       "    <tr>\n",
       "      <th>1.0</th>\n",
       "      <td>-11.16</td>\n",
       "      <td>13.46</td>\n",
       "    </tr>\n",
       "    <tr>\n",
       "      <th>5.0</th>\n",
       "      <td>-22.33</td>\n",
       "      <td>17.45</td>\n",
       "    </tr>\n",
       "    <tr>\n",
       "      <th>10.0</th>\n",
       "      <td>-28.66</td>\n",
       "      <td>23.32</td>\n",
       "    </tr>\n",
       "    <tr>\n",
       "      <th>20.0</th>\n",
       "      <td>-36.67</td>\n",
       "      <td>29.21</td>\n",
       "    </tr>\n",
       "    <tr>\n",
       "      <th>253.0</th>\n",
       "      <td>-26.53</td>\n",
       "      <td>45.35</td>\n",
       "    </tr>\n",
       "  </tbody>\n",
       "</table>\n",
       "</div>"
      ],
      "text/plain": [
       "            Biggest Drop  Biggest Increase\n",
       "Days Delta                                \n",
       "1.0               -11.16             13.46\n",
       "5.0               -22.33             17.45\n",
       "10.0              -28.66             23.32\n",
       "20.0              -36.67             29.21\n",
       "253.0             -26.53             45.35"
      ]
     },
     "execution_count": 45,
     "metadata": {},
     "output_type": "execute_result"
    }
   ],
   "source": [
    "disney_summary.set_index('Days Delta')"
   ]
  },
  {
   "cell_type": "markdown",
   "metadata": {},
   "source": [
    "## Predicting Stocks"
   ]
  },
  {
   "cell_type": "code",
   "execution_count": 46,
   "metadata": {},
   "outputs": [],
   "source": [
    "from sklearn.ensemble import RandomForestClassifier"
   ]
  },
  {
   "cell_type": "code",
   "execution_count": 47,
   "metadata": {},
   "outputs": [],
   "source": [
    "def status_calc(stock, sp500, outperformance):\n",
    "    \"\"\"A simple function to classify whether a stock outperformed the S&P500\n",
    "    :param stock: stock price\n",
    "    :param sp500: S&P500 price\n",
    "    :param outperformance: stock is classified 1 if stock price > S&P500 price + outperformance\n",
    "    :return: true/false\n",
    "    \"\"\"\n",
    "    if outperformance < 0:\n",
    "        raise ValueError(\"outperformance must be positive\")\n",
    "    \n",
    "    return stock - sp500 >= outperformance"
   ]
  },
  {
   "cell_type": "code",
   "execution_count": 48,
   "metadata": {},
   "outputs": [
    {
     "data": {
      "text/html": [
       "<div>\n",
       "<style scoped>\n",
       "    .dataframe tbody tr th:only-of-type {\n",
       "        vertical-align: middle;\n",
       "    }\n",
       "\n",
       "    .dataframe tbody tr th {\n",
       "        vertical-align: top;\n",
       "    }\n",
       "\n",
       "    .dataframe thead th {\n",
       "        text-align: right;\n",
       "    }\n",
       "</style>\n",
       "<table border=\"1\" class=\"dataframe\">\n",
       "  <thead>\n",
       "    <tr style=\"text-align: right;\">\n",
       "      <th></th>\n",
       "      <th>Close</th>\n",
       "      <th>Change</th>\n",
       "    </tr>\n",
       "    <tr>\n",
       "      <th>date</th>\n",
       "      <th></th>\n",
       "      <th></th>\n",
       "    </tr>\n",
       "  </thead>\n",
       "  <tbody>\n",
       "    <tr>\n",
       "      <th>1/3/2000</th>\n",
       "      <td>29.88</td>\n",
       "      <td>NaN</td>\n",
       "    </tr>\n",
       "    <tr>\n",
       "      <th>1/4/2000</th>\n",
       "      <td>31.63</td>\n",
       "      <td>0.058568</td>\n",
       "    </tr>\n",
       "    <tr>\n",
       "      <th>1/5/2000</th>\n",
       "      <td>32.75</td>\n",
       "      <td>0.035409</td>\n",
       "    </tr>\n",
       "    <tr>\n",
       "      <th>1/6/2000</th>\n",
       "      <td>31.63</td>\n",
       "      <td>-0.034198</td>\n",
       "    </tr>\n",
       "    <tr>\n",
       "      <th>1/7/2000</th>\n",
       "      <td>31.13</td>\n",
       "      <td>-0.015808</td>\n",
       "    </tr>\n",
       "  </tbody>\n",
       "</table>\n",
       "</div>"
      ],
      "text/plain": [
       "          Close    Change\n",
       "date                     \n",
       "1/3/2000  29.88       NaN\n",
       "1/4/2000  31.63  0.058568\n",
       "1/5/2000  32.75  0.035409\n",
       "1/6/2000  31.63 -0.034198\n",
       "1/7/2000  31.13 -0.015808"
      ]
     },
     "execution_count": 48,
     "metadata": {},
     "output_type": "execute_result"
    }
   ],
   "source": [
    "disney = pd.read_csv(\"Disney 2000-2020.csv\", index_col='date')\n",
    "features = disney.columns[4:]\n",
    "disney_ = disney[['Close']].copy()\n",
    "disney_['Change'] = disney_.pct_change()\n",
    "#disney_ = disney_.iloc[1:]\n",
    "disney_.head()"
   ]
  },
  {
   "cell_type": "code",
   "execution_count": 49,
   "metadata": {},
   "outputs": [
    {
     "data": {
      "text/html": [
       "<div>\n",
       "<style scoped>\n",
       "    .dataframe tbody tr th:only-of-type {\n",
       "        vertical-align: middle;\n",
       "    }\n",
       "\n",
       "    .dataframe tbody tr th {\n",
       "        vertical-align: top;\n",
       "    }\n",
       "\n",
       "    .dataframe thead th {\n",
       "        text-align: right;\n",
       "    }\n",
       "</style>\n",
       "<table border=\"1\" class=\"dataframe\">\n",
       "  <thead>\n",
       "    <tr style=\"text-align: right;\">\n",
       "      <th></th>\n",
       "      <th>Close</th>\n",
       "      <th>Change</th>\n",
       "    </tr>\n",
       "    <tr>\n",
       "      <th>Date</th>\n",
       "      <th></th>\n",
       "      <th></th>\n",
       "    </tr>\n",
       "  </thead>\n",
       "  <tbody>\n",
       "    <tr>\n",
       "      <th>1/3/2000</th>\n",
       "      <td>1455.22</td>\n",
       "      <td>NaN</td>\n",
       "    </tr>\n",
       "    <tr>\n",
       "      <th>1/4/2000</th>\n",
       "      <td>1399.42</td>\n",
       "      <td>-0.038345</td>\n",
       "    </tr>\n",
       "    <tr>\n",
       "      <th>1/5/2000</th>\n",
       "      <td>1402.11</td>\n",
       "      <td>0.001922</td>\n",
       "    </tr>\n",
       "    <tr>\n",
       "      <th>1/6/2000</th>\n",
       "      <td>1403.45</td>\n",
       "      <td>0.000956</td>\n",
       "    </tr>\n",
       "    <tr>\n",
       "      <th>1/7/2000</th>\n",
       "      <td>1441.47</td>\n",
       "      <td>0.027090</td>\n",
       "    </tr>\n",
       "  </tbody>\n",
       "</table>\n",
       "</div>"
      ],
      "text/plain": [
       "            Close    Change\n",
       "Date                       \n",
       "1/3/2000  1455.22       NaN\n",
       "1/4/2000  1399.42 -0.038345\n",
       "1/5/2000  1402.11  0.001922\n",
       "1/6/2000  1403.45  0.000956\n",
       "1/7/2000  1441.47  0.027090"
      ]
     },
     "execution_count": 49,
     "metadata": {},
     "output_type": "execute_result"
    }
   ],
   "source": [
    "sp500 = pd.read_csv(\"SP500.csv\", index_col='Date')\n",
    "sp500_ = sp500[[' Close']].copy()\n",
    "sp500_['Change'] = sp500_.pct_change()\n",
    "#sp500_ = sp500_.iloc[1:]\n",
    "sp500_.head()"
   ]
  },
  {
   "cell_type": "code",
   "execution_count": 50,
   "metadata": {},
   "outputs": [
    {
     "data": {
      "text/plain": [
       "Index(['Volume', 'Federal Funds Rate', 'Euro FX'], dtype='object')"
      ]
     },
     "execution_count": 50,
     "metadata": {},
     "output_type": "execute_result"
    }
   ],
   "source": [
    "features"
   ]
  },
  {
   "cell_type": "code",
   "execution_count": 51,
   "metadata": {},
   "outputs": [],
   "source": [
    "x_test_data = pd.read_csv(\"Disney 2020-03-10.csv\", index_col='date')\n",
    "x_test_data_ = x_test_data[['Close']].copy()\n",
    "x_test_data_['Change'] = x_test_data_.pct_change()\n",
    "\n",
    "y_test_data = pd.read_csv(\"SP500 2020.csv\", index_col='Date')\n",
    "y_test_data_ = y_test_data[[' Close']].copy()\n",
    "y_test_data_['Change'] = y_test_data_.pct_change()"
   ]
  },
  {
   "cell_type": "code",
   "execution_count": 52,
   "metadata": {},
   "outputs": [],
   "source": [
    "X_train = disney[features].values\n",
    "y_train = status_calc(disney_.Change, sp500_.Change, 0.01)"
   ]
  },
  {
   "cell_type": "code",
   "execution_count": 53,
   "metadata": {},
   "outputs": [],
   "source": [
    "X_test = x_test_data[features].values\n",
    "y_test = status_calc(x_test_data_.Change, y_test_data_.Change, 0.01)"
   ]
  },
  {
   "cell_type": "code",
   "execution_count": 54,
   "metadata": {},
   "outputs": [],
   "source": [
    "def algorithm(estimator, X_train, y_train, X_test, y_test):\n",
    "    clf = RandomForestClassifier(n_estimators=estimator, random_state=0)\n",
    "    clf.fit(X_train, y_train)\n",
    "    accuracy = clf.score(X_test, y_test)\n",
    "    y_pred = clf.predict(X_test)\n",
    "    trans = sum(y_pred)\n",
    "    return results.append({'Estimator': estimator, 'Accuracy': accuracy, 'Transactions': trans})"
   ]
  },
  {
   "cell_type": "code",
   "execution_count": 55,
   "metadata": {},
   "outputs": [],
   "source": [
    "estimators = [1, 2, 3, 4, 5, 10, 50, 100, 200, 500]\n",
    "results = []\n",
    "\n",
    "for estimator in estimators:\n",
    "    algorithm(estimator, X_train, y_train, X_test, y_test)"
   ]
  },
  {
   "cell_type": "code",
   "execution_count": 56,
   "metadata": {},
   "outputs": [
    {
     "data": {
      "text/html": [
       "<div>\n",
       "<style scoped>\n",
       "    .dataframe tbody tr th:only-of-type {\n",
       "        vertical-align: middle;\n",
       "    }\n",
       "\n",
       "    .dataframe tbody tr th {\n",
       "        vertical-align: top;\n",
       "    }\n",
       "\n",
       "    .dataframe thead th {\n",
       "        text-align: right;\n",
       "    }\n",
       "</style>\n",
       "<table border=\"1\" class=\"dataframe\">\n",
       "  <thead>\n",
       "    <tr style=\"text-align: right;\">\n",
       "      <th></th>\n",
       "      <th>Accuracy</th>\n",
       "      <th>Transactions</th>\n",
       "    </tr>\n",
       "    <tr>\n",
       "      <th>Estimator</th>\n",
       "      <th></th>\n",
       "      <th></th>\n",
       "    </tr>\n",
       "  </thead>\n",
       "  <tbody>\n",
       "    <tr>\n",
       "      <th>1</th>\n",
       "      <td>0.829787</td>\n",
       "      <td>12</td>\n",
       "    </tr>\n",
       "    <tr>\n",
       "      <th>2</th>\n",
       "      <td>0.808511</td>\n",
       "      <td>5</td>\n",
       "    </tr>\n",
       "    <tr>\n",
       "      <th>3</th>\n",
       "      <td>0.787234</td>\n",
       "      <td>8</td>\n",
       "    </tr>\n",
       "    <tr>\n",
       "      <th>4</th>\n",
       "      <td>0.787234</td>\n",
       "      <td>6</td>\n",
       "    </tr>\n",
       "    <tr>\n",
       "      <th>5</th>\n",
       "      <td>0.787234</td>\n",
       "      <td>6</td>\n",
       "    </tr>\n",
       "    <tr>\n",
       "      <th>10</th>\n",
       "      <td>0.808511</td>\n",
       "      <td>9</td>\n",
       "    </tr>\n",
       "    <tr>\n",
       "      <th>50</th>\n",
       "      <td>0.765957</td>\n",
       "      <td>11</td>\n",
       "    </tr>\n",
       "    <tr>\n",
       "      <th>100</th>\n",
       "      <td>0.765957</td>\n",
       "      <td>11</td>\n",
       "    </tr>\n",
       "    <tr>\n",
       "      <th>200</th>\n",
       "      <td>0.765957</td>\n",
       "      <td>11</td>\n",
       "    </tr>\n",
       "    <tr>\n",
       "      <th>500</th>\n",
       "      <td>0.765957</td>\n",
       "      <td>11</td>\n",
       "    </tr>\n",
       "  </tbody>\n",
       "</table>\n",
       "</div>"
      ],
      "text/plain": [
       "           Accuracy  Transactions\n",
       "Estimator                        \n",
       "1          0.829787            12\n",
       "2          0.808511             5\n",
       "3          0.787234             8\n",
       "4          0.787234             6\n",
       "5          0.787234             6\n",
       "10         0.808511             9\n",
       "50         0.765957            11\n",
       "100        0.765957            11\n",
       "200        0.765957            11\n",
       "500        0.765957            11"
      ]
     },
     "execution_count": 56,
     "metadata": {},
     "output_type": "execute_result"
    }
   ],
   "source": [
    "result = pd.DataFrame(results)\n",
    "result.set_index('Estimator')"
   ]
  },
  {
   "cell_type": "code",
   "execution_count": 57,
   "metadata": {},
   "outputs": [],
   "source": [
    "# For n = 10\n",
    "\n",
    "clf = RandomForestClassifier(n_estimators=10, random_state=0)\n",
    "clf.fit(X_train, y_train)\n",
    "accuracy = clf.score(X_test, y_test)\n",
    "y_pred = clf.predict(X_test)"
   ]
  },
  {
   "cell_type": "code",
   "execution_count": 58,
   "metadata": {},
   "outputs": [],
   "source": [
    "dates = x_test_data.index"
   ]
  },
  {
   "cell_type": "code",
   "execution_count": 59,
   "metadata": {},
   "outputs": [
    {
     "data": {
      "text/html": [
       "<div>\n",
       "<style scoped>\n",
       "    .dataframe tbody tr th:only-of-type {\n",
       "        vertical-align: middle;\n",
       "    }\n",
       "\n",
       "    .dataframe tbody tr th {\n",
       "        vertical-align: top;\n",
       "    }\n",
       "\n",
       "    .dataframe thead th {\n",
       "        text-align: right;\n",
       "    }\n",
       "</style>\n",
       "<table border=\"1\" class=\"dataframe\">\n",
       "  <thead>\n",
       "    <tr style=\"text-align: right;\">\n",
       "      <th></th>\n",
       "      <th>Trades</th>\n",
       "    </tr>\n",
       "    <tr>\n",
       "      <th>Date</th>\n",
       "      <th></th>\n",
       "    </tr>\n",
       "  </thead>\n",
       "  <tbody>\n",
       "    <tr>\n",
       "      <th>1/14/2020</th>\n",
       "      <td>True</td>\n",
       "    </tr>\n",
       "    <tr>\n",
       "      <th>2/4/2020</th>\n",
       "      <td>True</td>\n",
       "    </tr>\n",
       "    <tr>\n",
       "      <th>2/24/2020</th>\n",
       "      <td>True</td>\n",
       "    </tr>\n",
       "    <tr>\n",
       "      <th>2/25/2020</th>\n",
       "      <td>True</td>\n",
       "    </tr>\n",
       "    <tr>\n",
       "      <th>3/2/2020</th>\n",
       "      <td>True</td>\n",
       "    </tr>\n",
       "    <tr>\n",
       "      <th>3/3/2020</th>\n",
       "      <td>True</td>\n",
       "    </tr>\n",
       "    <tr>\n",
       "      <th>3/5/2020</th>\n",
       "      <td>True</td>\n",
       "    </tr>\n",
       "    <tr>\n",
       "      <th>3/6/2020</th>\n",
       "      <td>True</td>\n",
       "    </tr>\n",
       "    <tr>\n",
       "      <th>3/10/2020</th>\n",
       "      <td>True</td>\n",
       "    </tr>\n",
       "  </tbody>\n",
       "</table>\n",
       "</div>"
      ],
      "text/plain": [
       "           Trades\n",
       "Date             \n",
       "1/14/2020    True\n",
       "2/4/2020     True\n",
       "2/24/2020    True\n",
       "2/25/2020    True\n",
       "3/2/2020     True\n",
       "3/3/2020     True\n",
       "3/5/2020     True\n",
       "3/6/2020     True\n",
       "3/10/2020    True"
      ]
     },
     "execution_count": 59,
     "metadata": {},
     "output_type": "execute_result"
    }
   ],
   "source": [
    "df_result = pd.DataFrame({'Date': dates, 'Trades': y_pred})\n",
    "df_result = df_result.set_index('Date')\n",
    "df_result[df_result.Trades]"
   ]
  }
 ],
 "metadata": {
  "kernelspec": {
   "display_name": "Python 3",
   "language": "python",
   "name": "python3"
  },
  "language_info": {
   "codemirror_mode": {
    "name": "ipython",
    "version": 3
   },
   "file_extension": ".py",
   "mimetype": "text/x-python",
   "name": "python",
   "nbconvert_exporter": "python",
   "pygments_lexer": "ipython3",
   "version": "3.7.3"
  }
 },
 "nbformat": 4,
 "nbformat_minor": 2
}
